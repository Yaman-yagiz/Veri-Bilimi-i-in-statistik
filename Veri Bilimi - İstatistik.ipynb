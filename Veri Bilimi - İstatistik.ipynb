{
 "cells": [
  {
   "cell_type": "markdown",
   "id": "d7e7f781",
   "metadata": {},
   "source": [
    "# Veri Bilimi İçin İstatistik"
   ]
  },
  {
   "cell_type": "markdown",
   "id": "0218ab64",
   "metadata": {},
   "source": [
    "- Örnek Teorisi\n",
    "- Betimsel İstatistikler\n",
    "- Güven Aralıkları\n",
    "- Olasılık Dağılımları\n",
    "- Hipotez Testleri\n",
    "- Varyans Analizi\n",
    "- Korelasyon Analizi"
   ]
  },
  {
   "cell_type": "markdown",
   "id": "885ad55e",
   "metadata": {},
   "source": [
    "## Örnek Teorisi"
   ]
  },
  {
   "cell_type": "markdown",
   "id": "077648a8",
   "metadata": {},
   "source": [
    "<p>Örneklem, bir popülasyon (ana kitle) içerisinden bu popülasyonu iyi bir şekilde (yansız) temsil ettiği düşünülen bir alt kümedir.</p>\n",
    "Örneklem dağılımı, bir popülasyondan birden fazla örneklem çekip, bu örneklemlerin dağılımlarını incelediğimizde ortaya çıkan durumdur."
   ]
  },
  {
   "cell_type": "code",
   "execution_count": 1,
   "id": "f847b506",
   "metadata": {},
   "outputs": [],
   "source": [
    "import numpy as np"
   ]
  },
  {
   "cell_type": "code",
   "execution_count": 2,
   "id": "9b78768a",
   "metadata": {},
   "outputs": [],
   "source": [
    "populasyon=np.random.randint(0,90,10000)"
   ]
  },
  {
   "cell_type": "code",
   "execution_count": 3,
   "id": "1a41c1c8",
   "metadata": {},
   "outputs": [
    {
     "data": {
      "text/plain": [
       "array([30, 30, 80, 21, 82, 13, 59, 71,  6, 50])"
      ]
     },
     "execution_count": 3,
     "metadata": {},
     "output_type": "execute_result"
    }
   ],
   "source": [
    "populasyon[0:10]"
   ]
  },
  {
   "cell_type": "code",
   "execution_count": 4,
   "id": "62459f34",
   "metadata": {},
   "outputs": [
    {
     "data": {
      "text/plain": [
       "array([ 1, 65, 36, 26, 27, 66, 75, 76, 48,  1])"
      ]
     },
     "execution_count": 4,
     "metadata": {},
     "output_type": "execute_result"
    }
   ],
   "source": [
    "# örneklem çekimi\n",
    "np.random.seed(1) # random_state ile aynı işlevi görür.\n",
    "orneklem=np.random.choice(a=populasyon,size=100) # populasyon içerisinden 100 tane rastgele örneklem seç\n",
    "orneklem[:10]"
   ]
  },
  {
   "cell_type": "code",
   "execution_count": 5,
   "id": "e43e5d74",
   "metadata": {},
   "outputs": [
    {
     "data": {
      "text/plain": [
       "(49.02, 44.4599)"
      ]
     },
     "execution_count": 5,
     "metadata": {},
     "output_type": "execute_result"
    }
   ],
   "source": [
    "orneklem.mean(),populasyon.mean()"
   ]
  },
  {
   "cell_type": "code",
   "execution_count": 6,
   "id": "f5149fe9",
   "metadata": {},
   "outputs": [],
   "source": [
    "# örneklem dağılımı\n",
    "np.random.seed(15)\n",
    "orneklem1=np.random.choice(a=populasyon,size=100)\n",
    "orneklem2=np.random.choice(a=populasyon,size=100)\n",
    "orneklem3=np.random.choice(a=populasyon,size=100)\n",
    "orneklem4=np.random.choice(a=populasyon,size=100)\n",
    "orneklem5=np.random.choice(a=populasyon,size=100)\n",
    "orneklem6=np.random.choice(a=populasyon,size=100)\n",
    "orneklem7=np.random.choice(a=populasyon,size=100)\n",
    "orneklem8=np.random.choice(a=populasyon,size=100)\n",
    "orneklem9=np.random.choice(a=populasyon,size=100)\n",
    "orneklem10=np.random.choice(a=populasyon,size=100)"
   ]
  },
  {
   "cell_type": "code",
   "execution_count": 7,
   "id": "a04765c8",
   "metadata": {},
   "outputs": [
    {
     "data": {
      "text/plain": [
       "44.01800000000001"
      ]
     },
     "execution_count": 7,
     "metadata": {},
     "output_type": "execute_result"
    }
   ],
   "source": [
    "# Merkezi Limit Teoremi\n",
    "# oluşturulan yeni örneklemlerin ortalamalarının aritmetik ortalaması\n",
    "(orneklem1.mean()+orneklem2.mean()+orneklem3.mean()+orneklem4.mean()+orneklem5.mean()+orneklem6.mean()+orneklem7.mean()\\\n",
    "+orneklem8.mean()+orneklem9.mean()+orneklem10.mean())/10"
   ]
  },
  {
   "cell_type": "markdown",
   "id": "5d32c57f",
   "metadata": {},
   "source": [
    "## Betimsel İstatistikler"
   ]
  },
  {
   "cell_type": "markdown",
   "id": "62fef8cf",
   "metadata": {},
   "source": [
    "<p>Kovaryans, iki değişken arasındaki ilişkinin değişkenlik ölçüsüdür.</p>\n",
    "<p>Varyans, ortalama etrafındaki dağılımın ölçüsüdür. Standart sapmanın karesidir.</p>\n",
    "<p>Korelasyon, iki değişken arasındaki ilişkiyi, ilişkinin anlamını, ilişkinin şiddetini ve yönünü ifade eder.</p>"
   ]
  },
  {
   "cell_type": "code",
   "execution_count": 8,
   "id": "84556ba1",
   "metadata": {},
   "outputs": [
    {
     "data": {
      "text/html": [
       "<div>\n",
       "<style scoped>\n",
       "    .dataframe tbody tr th:only-of-type {\n",
       "        vertical-align: middle;\n",
       "    }\n",
       "\n",
       "    .dataframe tbody tr th {\n",
       "        vertical-align: top;\n",
       "    }\n",
       "\n",
       "    .dataframe thead th {\n",
       "        text-align: right;\n",
       "    }\n",
       "</style>\n",
       "<table border=\"1\" class=\"dataframe\">\n",
       "  <thead>\n",
       "    <tr style=\"text-align: right;\">\n",
       "      <th></th>\n",
       "      <th>total_bill</th>\n",
       "      <th>tip</th>\n",
       "      <th>sex</th>\n",
       "      <th>smoker</th>\n",
       "      <th>day</th>\n",
       "      <th>time</th>\n",
       "      <th>size</th>\n",
       "    </tr>\n",
       "  </thead>\n",
       "  <tbody>\n",
       "    <tr>\n",
       "      <th>0</th>\n",
       "      <td>16.99</td>\n",
       "      <td>1.01</td>\n",
       "      <td>Female</td>\n",
       "      <td>No</td>\n",
       "      <td>Sun</td>\n",
       "      <td>Dinner</td>\n",
       "      <td>2</td>\n",
       "    </tr>\n",
       "    <tr>\n",
       "      <th>1</th>\n",
       "      <td>10.34</td>\n",
       "      <td>1.66</td>\n",
       "      <td>Male</td>\n",
       "      <td>No</td>\n",
       "      <td>Sun</td>\n",
       "      <td>Dinner</td>\n",
       "      <td>3</td>\n",
       "    </tr>\n",
       "    <tr>\n",
       "      <th>2</th>\n",
       "      <td>21.01</td>\n",
       "      <td>3.50</td>\n",
       "      <td>Male</td>\n",
       "      <td>No</td>\n",
       "      <td>Sun</td>\n",
       "      <td>Dinner</td>\n",
       "      <td>3</td>\n",
       "    </tr>\n",
       "    <tr>\n",
       "      <th>3</th>\n",
       "      <td>23.68</td>\n",
       "      <td>3.31</td>\n",
       "      <td>Male</td>\n",
       "      <td>No</td>\n",
       "      <td>Sun</td>\n",
       "      <td>Dinner</td>\n",
       "      <td>2</td>\n",
       "    </tr>\n",
       "    <tr>\n",
       "      <th>4</th>\n",
       "      <td>24.59</td>\n",
       "      <td>3.61</td>\n",
       "      <td>Female</td>\n",
       "      <td>No</td>\n",
       "      <td>Sun</td>\n",
       "      <td>Dinner</td>\n",
       "      <td>4</td>\n",
       "    </tr>\n",
       "  </tbody>\n",
       "</table>\n",
       "</div>"
      ],
      "text/plain": [
       "   total_bill   tip     sex smoker  day    time  size\n",
       "0       16.99  1.01  Female     No  Sun  Dinner     2\n",
       "1       10.34  1.66    Male     No  Sun  Dinner     3\n",
       "2       21.01  3.50    Male     No  Sun  Dinner     3\n",
       "3       23.68  3.31    Male     No  Sun  Dinner     2\n",
       "4       24.59  3.61  Female     No  Sun  Dinner     4"
      ]
     },
     "execution_count": 8,
     "metadata": {},
     "output_type": "execute_result"
    }
   ],
   "source": [
    "import seaborn as sns\n",
    "df=sns.load_dataset(\"tips\")\n",
    "df.head()"
   ]
  },
  {
   "cell_type": "code",
   "execution_count": 9,
   "id": "d0cb6a07",
   "metadata": {},
   "outputs": [
    {
     "data": {
      "text/html": [
       "<div>\n",
       "<style scoped>\n",
       "    .dataframe tbody tr th:only-of-type {\n",
       "        vertical-align: middle;\n",
       "    }\n",
       "\n",
       "    .dataframe tbody tr th {\n",
       "        vertical-align: top;\n",
       "    }\n",
       "\n",
       "    .dataframe thead th {\n",
       "        text-align: right;\n",
       "    }\n",
       "</style>\n",
       "<table border=\"1\" class=\"dataframe\">\n",
       "  <thead>\n",
       "    <tr style=\"text-align: right;\">\n",
       "      <th></th>\n",
       "      <th>count</th>\n",
       "      <th>mean</th>\n",
       "      <th>std</th>\n",
       "      <th>min</th>\n",
       "      <th>25%</th>\n",
       "      <th>50%</th>\n",
       "      <th>75%</th>\n",
       "      <th>max</th>\n",
       "    </tr>\n",
       "  </thead>\n",
       "  <tbody>\n",
       "    <tr>\n",
       "      <th>total_bill</th>\n",
       "      <td>244.0</td>\n",
       "      <td>19.785943</td>\n",
       "      <td>8.902412</td>\n",
       "      <td>3.07</td>\n",
       "      <td>13.3475</td>\n",
       "      <td>17.795</td>\n",
       "      <td>24.1275</td>\n",
       "      <td>50.81</td>\n",
       "    </tr>\n",
       "    <tr>\n",
       "      <th>tip</th>\n",
       "      <td>244.0</td>\n",
       "      <td>2.998279</td>\n",
       "      <td>1.383638</td>\n",
       "      <td>1.00</td>\n",
       "      <td>2.0000</td>\n",
       "      <td>2.900</td>\n",
       "      <td>3.5625</td>\n",
       "      <td>10.00</td>\n",
       "    </tr>\n",
       "    <tr>\n",
       "      <th>size</th>\n",
       "      <td>244.0</td>\n",
       "      <td>2.569672</td>\n",
       "      <td>0.951100</td>\n",
       "      <td>1.00</td>\n",
       "      <td>2.0000</td>\n",
       "      <td>2.000</td>\n",
       "      <td>3.0000</td>\n",
       "      <td>6.00</td>\n",
       "    </tr>\n",
       "  </tbody>\n",
       "</table>\n",
       "</div>"
      ],
      "text/plain": [
       "            count       mean       std   min      25%     50%      75%    max\n",
       "total_bill  244.0  19.785943  8.902412  3.07  13.3475  17.795  24.1275  50.81\n",
       "tip         244.0   2.998279  1.383638  1.00   2.0000   2.900   3.5625  10.00\n",
       "size        244.0   2.569672  0.951100  1.00   2.0000   2.000   3.0000   6.00"
      ]
     },
     "execution_count": 9,
     "metadata": {},
     "output_type": "execute_result"
    }
   ],
   "source": [
    "df.describe().T"
   ]
  },
  {
   "cell_type": "markdown",
   "id": "bdab3277",
   "metadata": {},
   "source": [
    "Yukarıda yaptığımız istatiksiksel işlemleri aşağıdaki <b>researchpy</b> modülü ile de yapabiliriz."
   ]
  },
  {
   "cell_type": "code",
   "execution_count": 10,
   "id": "d8e4c89f",
   "metadata": {},
   "outputs": [],
   "source": [
    "import researchpy as rp"
   ]
  },
  {
   "cell_type": "code",
   "execution_count": 11,
   "id": "4ee54b9b",
   "metadata": {},
   "outputs": [
    {
     "name": "stdout",
     "output_type": "stream",
     "text": [
      "\n",
      "\n"
     ]
    },
    {
     "data": {
      "text/html": [
       "<div>\n",
       "<style scoped>\n",
       "    .dataframe tbody tr th:only-of-type {\n",
       "        vertical-align: middle;\n",
       "    }\n",
       "\n",
       "    .dataframe tbody tr th {\n",
       "        vertical-align: top;\n",
       "    }\n",
       "\n",
       "    .dataframe thead th {\n",
       "        text-align: right;\n",
       "    }\n",
       "</style>\n",
       "<table border=\"1\" class=\"dataframe\">\n",
       "  <thead>\n",
       "    <tr style=\"text-align: right;\">\n",
       "      <th></th>\n",
       "      <th>Variable</th>\n",
       "      <th>N</th>\n",
       "      <th>Mean</th>\n",
       "      <th>SD</th>\n",
       "      <th>SE</th>\n",
       "      <th>95% Conf.</th>\n",
       "      <th>Interval</th>\n",
       "    </tr>\n",
       "  </thead>\n",
       "  <tbody>\n",
       "    <tr>\n",
       "      <th>0</th>\n",
       "      <td>total_bill</td>\n",
       "      <td>244.0</td>\n",
       "      <td>19.7859</td>\n",
       "      <td>8.9024</td>\n",
       "      <td>0.5699</td>\n",
       "      <td>18.6633</td>\n",
       "      <td>20.9086</td>\n",
       "    </tr>\n",
       "    <tr>\n",
       "      <th>1</th>\n",
       "      <td>tip</td>\n",
       "      <td>244.0</td>\n",
       "      <td>2.9983</td>\n",
       "      <td>1.3836</td>\n",
       "      <td>0.0886</td>\n",
       "      <td>2.8238</td>\n",
       "      <td>3.1728</td>\n",
       "    </tr>\n",
       "    <tr>\n",
       "      <th>2</th>\n",
       "      <td>size</td>\n",
       "      <td>244.0</td>\n",
       "      <td>2.5697</td>\n",
       "      <td>0.9511</td>\n",
       "      <td>0.0609</td>\n",
       "      <td>2.4497</td>\n",
       "      <td>2.6896</td>\n",
       "    </tr>\n",
       "  </tbody>\n",
       "</table>\n",
       "</div>"
      ],
      "text/plain": [
       "     Variable      N     Mean      SD      SE  95% Conf.  Interval\n",
       "0  total_bill  244.0  19.7859  8.9024  0.5699    18.6633   20.9086\n",
       "1         tip  244.0   2.9983  1.3836  0.0886     2.8238    3.1728\n",
       "2        size  244.0   2.5697  0.9511  0.0609     2.4497    2.6896"
      ]
     },
     "execution_count": 11,
     "metadata": {},
     "output_type": "execute_result"
    }
   ],
   "source": [
    "rp.summary_cont(df[[\"total_bill\",\"tip\",\"size\"]]) # sürekli değişkenler için istatistik özellikler.\n",
    "# SD: standart sapma, SE: standart hatası, Conf: %95 doğruluk ile Güven aralıklıkları"
   ]
  },
  {
   "cell_type": "code",
   "execution_count": 12,
   "id": "91f41c33",
   "metadata": {},
   "outputs": [
    {
     "data": {
      "text/html": [
       "<div>\n",
       "<style scoped>\n",
       "    .dataframe tbody tr th:only-of-type {\n",
       "        vertical-align: middle;\n",
       "    }\n",
       "\n",
       "    .dataframe tbody tr th {\n",
       "        vertical-align: top;\n",
       "    }\n",
       "\n",
       "    .dataframe thead th {\n",
       "        text-align: right;\n",
       "    }\n",
       "</style>\n",
       "<table border=\"1\" class=\"dataframe\">\n",
       "  <thead>\n",
       "    <tr style=\"text-align: right;\">\n",
       "      <th></th>\n",
       "      <th>Variable</th>\n",
       "      <th>Outcome</th>\n",
       "      <th>Count</th>\n",
       "      <th>Percent</th>\n",
       "    </tr>\n",
       "  </thead>\n",
       "  <tbody>\n",
       "    <tr>\n",
       "      <th>0</th>\n",
       "      <td>sex</td>\n",
       "      <td>Male</td>\n",
       "      <td>157</td>\n",
       "      <td>64.34</td>\n",
       "    </tr>\n",
       "    <tr>\n",
       "      <th>1</th>\n",
       "      <td></td>\n",
       "      <td>Female</td>\n",
       "      <td>87</td>\n",
       "      <td>35.66</td>\n",
       "    </tr>\n",
       "    <tr>\n",
       "      <th>2</th>\n",
       "      <td>smoker</td>\n",
       "      <td>No</td>\n",
       "      <td>151</td>\n",
       "      <td>61.89</td>\n",
       "    </tr>\n",
       "    <tr>\n",
       "      <th>3</th>\n",
       "      <td></td>\n",
       "      <td>Yes</td>\n",
       "      <td>93</td>\n",
       "      <td>38.11</td>\n",
       "    </tr>\n",
       "    <tr>\n",
       "      <th>4</th>\n",
       "      <td>day</td>\n",
       "      <td>Sat</td>\n",
       "      <td>87</td>\n",
       "      <td>35.66</td>\n",
       "    </tr>\n",
       "    <tr>\n",
       "      <th>5</th>\n",
       "      <td></td>\n",
       "      <td>Sun</td>\n",
       "      <td>76</td>\n",
       "      <td>31.15</td>\n",
       "    </tr>\n",
       "    <tr>\n",
       "      <th>6</th>\n",
       "      <td></td>\n",
       "      <td>Thur</td>\n",
       "      <td>62</td>\n",
       "      <td>25.41</td>\n",
       "    </tr>\n",
       "    <tr>\n",
       "      <th>7</th>\n",
       "      <td></td>\n",
       "      <td>Fri</td>\n",
       "      <td>19</td>\n",
       "      <td>7.79</td>\n",
       "    </tr>\n",
       "  </tbody>\n",
       "</table>\n",
       "</div>"
      ],
      "text/plain": [
       "  Variable Outcome  Count  Percent\n",
       "0      sex    Male    157    64.34\n",
       "1           Female     87    35.66\n",
       "2   smoker      No    151    61.89\n",
       "3              Yes     93    38.11\n",
       "4      day     Sat     87    35.66\n",
       "5              Sun     76    31.15\n",
       "6             Thur     62    25.41\n",
       "7              Fri     19     7.79"
      ]
     },
     "execution_count": 12,
     "metadata": {},
     "output_type": "execute_result"
    }
   ],
   "source": [
    "rp.summary_cat(df[[\"sex\",\"smoker\",\"day\"]]) # kategorik değişkenler için istatistik özellikler"
   ]
  },
  {
   "cell_type": "code",
   "execution_count": 13,
   "id": "d9ddbc44",
   "metadata": {},
   "outputs": [
    {
     "data": {
      "text/html": [
       "<div>\n",
       "<style scoped>\n",
       "    .dataframe tbody tr th:only-of-type {\n",
       "        vertical-align: middle;\n",
       "    }\n",
       "\n",
       "    .dataframe tbody tr th {\n",
       "        vertical-align: top;\n",
       "    }\n",
       "\n",
       "    .dataframe thead th {\n",
       "        text-align: right;\n",
       "    }\n",
       "</style>\n",
       "<table border=\"1\" class=\"dataframe\">\n",
       "  <thead>\n",
       "    <tr style=\"text-align: right;\">\n",
       "      <th></th>\n",
       "      <th>tip</th>\n",
       "      <th>total_bill</th>\n",
       "    </tr>\n",
       "  </thead>\n",
       "  <tbody>\n",
       "    <tr>\n",
       "      <th>tip</th>\n",
       "      <td>1.914455</td>\n",
       "      <td>8.323502</td>\n",
       "    </tr>\n",
       "    <tr>\n",
       "      <th>total_bill</th>\n",
       "      <td>8.323502</td>\n",
       "      <td>79.252939</td>\n",
       "    </tr>\n",
       "  </tbody>\n",
       "</table>\n",
       "</div>"
      ],
      "text/plain": [
       "                 tip  total_bill\n",
       "tip         1.914455    8.323502\n",
       "total_bill  8.323502   79.252939"
      ]
     },
     "execution_count": 13,
     "metadata": {},
     "output_type": "execute_result"
    }
   ],
   "source": [
    "# kovaryans\n",
    "df[['tip','total_bill']].cov()"
   ]
  },
  {
   "cell_type": "code",
   "execution_count": 14,
   "id": "c87e9f73",
   "metadata": {},
   "outputs": [
    {
     "data": {
      "text/html": [
       "<div>\n",
       "<style scoped>\n",
       "    .dataframe tbody tr th:only-of-type {\n",
       "        vertical-align: middle;\n",
       "    }\n",
       "\n",
       "    .dataframe tbody tr th {\n",
       "        vertical-align: top;\n",
       "    }\n",
       "\n",
       "    .dataframe thead th {\n",
       "        text-align: right;\n",
       "    }\n",
       "</style>\n",
       "<table border=\"1\" class=\"dataframe\">\n",
       "  <thead>\n",
       "    <tr style=\"text-align: right;\">\n",
       "      <th></th>\n",
       "      <th>tip</th>\n",
       "      <th>total_bill</th>\n",
       "    </tr>\n",
       "  </thead>\n",
       "  <tbody>\n",
       "    <tr>\n",
       "      <th>tip</th>\n",
       "      <td>1.000000</td>\n",
       "      <td>0.675734</td>\n",
       "    </tr>\n",
       "    <tr>\n",
       "      <th>total_bill</th>\n",
       "      <td>0.675734</td>\n",
       "      <td>1.000000</td>\n",
       "    </tr>\n",
       "  </tbody>\n",
       "</table>\n",
       "</div>"
      ],
      "text/plain": [
       "                 tip  total_bill\n",
       "tip         1.000000    0.675734\n",
       "total_bill  0.675734    1.000000"
      ]
     },
     "execution_count": 14,
     "metadata": {},
     "output_type": "execute_result"
    }
   ],
   "source": [
    "# korelasyon\n",
    "df[['tip','total_bill']].corr()"
   ]
  },
  {
   "cell_type": "markdown",
   "id": "9b641a11",
   "metadata": {},
   "source": [
    "## Güven Aralıkları"
   ]
  },
  {
   "cell_type": "markdown",
   "id": "7bb08ab1",
   "metadata": {},
   "source": [
    "<p> Örnek istatistiğinin iki sayı tarafından bir aralık olarak ifade edilmesidir.</p>\n",
    "<p> Yani, ortalamanın etrafında artı-eksi bir değer konumlandırması yap demektir.</p>\n",
    "<p> Örnek sayısı, ortalama, standart sapma ve z tablo değerleri kullanılarak hesaplanır.</p>"
   ]
  },
  {
   "cell_type": "code",
   "execution_count": 15,
   "id": "3602318a",
   "metadata": {},
   "outputs": [],
   "source": [
    "import math"
   ]
  },
  {
   "cell_type": "code",
   "execution_count": 16,
   "id": "3b3429eb",
   "metadata": {},
   "outputs": [],
   "source": [
    "ortalama=orneklem.mean()\n",
    "n=100\n",
    "std=orneklem.std()\n",
    "z_tablo=1.5 # normalde tablodan bakılıp yazılması gereken bir değer bu örnek için öylesine yazılmıştır."
   ]
  },
  {
   "cell_type": "code",
   "execution_count": 17,
   "id": "5f9f564f",
   "metadata": {},
   "outputs": [
    {
     "data": {
      "text/plain": [
       "(('mean:', 49.02),\n",
       " ('alt sınır:', 45.060796671046056),\n",
       " ('üst sınır:', 52.97920332895395))"
      ]
     },
     "execution_count": 17,
     "metadata": {},
     "output_type": "execute_result"
    }
   ],
   "source": [
    "# örneklemler, istastiki olarak %95 güvenilirlik ile değerlerin aralıkları hesaplandı.\n",
    "(\"mean:\",ortalama), (\"alt sınır:\",ortalama-(z_tablo*std/math.sqrt(n))),(\"üst sınır:\",ortalama+(z_tablo*std/math.sqrt(n)))"
   ]
  },
  {
   "cell_type": "markdown",
   "id": "62cbd946",
   "metadata": {},
   "source": [
    "Yukarıdaki işlemin daha kesin ve doğru sonucu için aşağıda <b>statsmodels </b> modülünü import ederek uygulayalım"
   ]
  },
  {
   "cell_type": "code",
   "execution_count": 18,
   "id": "8c453213",
   "metadata": {},
   "outputs": [],
   "source": [
    "import statsmodels.stats.api as sms"
   ]
  },
  {
   "cell_type": "code",
   "execution_count": 19,
   "id": "6b49fee4",
   "metadata": {},
   "outputs": [
    {
     "data": {
      "text/plain": [
       "(43.75633664988797, 54.283663350112036)"
      ]
     },
     "execution_count": 19,
     "metadata": {},
     "output_type": "execute_result"
    }
   ],
   "source": [
    "# orneklemi vermemiz yeterlidir.istastiki olarak %95 güvenilirlik ile değerlerin aralıkları hesaplandı.\n",
    "sms.DescrStatsW(orneklem).tconfint_mean()"
   ]
  },
  {
   "cell_type": "markdown",
   "id": "f2120541",
   "metadata": {},
   "source": [
    "<p> Güven aralığı için bir başka örnek:</p>\n",
    "<p> Bir ürünümüz olduğunu ve bu ürünün fiyatını belirlemek için insanlara anlatıp daha sonra bu ürün için ne kadar teklif verebileceklerini sorduğumuzu düşünelim. Gelen değerler tamamen birbirinden bağımsız olacaktır. Bu adımlara göre ürünümüze bir fiyat belirlemek için gelen değerlerin ortalamasını alabiliriz. Fakat bunu daha da ileriye taşıyarak kimi durumlarda biraz ucuza, kimi durumlarda daha pahalıya satabilmek ve en yüsek kârı sağlayabilmek için; bilimsel ve istatistiki olarak %95 güvenirlik ile 2 ara değer hesaplanması yapılabilir. Bu bir güven aralığı problemi sayılabilecek bir konudur. Ve ürünün bu aralıklar sayesinde elde edeceği kar artışı %1 %2 bile arttsa bu çok önemli ve gerçek hayatta da kıymetli bir süreçtir.</p>"
   ]
  },
  {
   "cell_type": "code",
   "execution_count": 20,
   "id": "55936820",
   "metadata": {},
   "outputs": [
    {
     "data": {
      "text/plain": [
       "64.233"
      ]
     },
     "execution_count": 20,
     "metadata": {},
     "output_type": "execute_result"
    }
   ],
   "source": [
    "fiyatlar=np.random.randint(10,120,1000)\n",
    "fiyatlar.mean()"
   ]
  },
  {
   "cell_type": "code",
   "execution_count": 21,
   "id": "e3bfff01",
   "metadata": {},
   "outputs": [
    {
     "data": {
      "text/plain": [
       "(62.298044753347504, 66.16795524665251)"
      ]
     },
     "execution_count": 21,
     "metadata": {},
     "output_type": "execute_result"
    }
   ],
   "source": [
    "sms.DescrStatsW(fiyatlar).tconfint_mean()\n",
    "# hesaplanan bu aralıklar ile ürünümüzün pazarlama esnekliğini sağlamış olup\n",
    "# 100 kişiden 95 i ürünün fiyatı bu aralıklardayken bu ürünü alır diyebilmiş oluyoruz."
   ]
  },
  {
   "cell_type": "markdown",
   "id": "d15e1866",
   "metadata": {},
   "source": [
    "## Olasılık Dağılımları"
   ]
  },
  {
   "cell_type": "markdown",
   "id": "46f1ab5d",
   "metadata": {},
   "source": [
    "<p>Olasılık, olayların olabilirliğinin sayısal ifadesidir. Ya da bir olayın meydana gelmesi için uygun durum sayısının, o konuda oluşabilecek tüm elverişli durum sayısına oranıdır.</p>\n",
    "<p>Rassal değişken, değerlerini bir deneyin sonucundan alan değişkenlere denir. Örneğin; yazı tura deneyi.</p>\n",
    "<p>Dağılım, evrende gelişen bütün olayların sayısal karşılıklarının ortaya çıkardığı yapıya denir.</p>\n",
    "<p>Olasılıksal dağılım, rassal yapıya ait değerler ve bu değerlerin gerçekleşme olasılıklarının bir arada ifade edilmesine denir. </p>\n",
    "<p>Olasılık fonksiyonu, bir değişkenin herhangi bir değişkeni alması olasılığını hesaplayan fonksiyondur.</p>\n",
    "\n",
    "<p>Olasılık dağılımları bir veri bilimci olarak bizim ne işimize yarar?</p>\n",
    "\n",
    "- Belirsizlik atında karar vermeyi kolaylaştırır. Bir şeyleri modellemek, veriye dökmeye çalışmak adına yapılabilinecek yaklaşımlardan birisi olasılık dağılımlarını kullanmaktır.\n",
    "- Uygun olasılık fonksiyonları ile olasılık hesapları yapılabilinir."
   ]
  },
  {
   "cell_type": "markdown",
   "id": "d85c52d5",
   "metadata": {},
   "source": [
    "Kesikli olasılık dağılımları\n",
    "- Bernouilli\n",
    "- Binom\n",
    "- Poisson\n",
    "----------------------------------------------\n",
    "Sürekli olasılık dağılımları\n",
    "- Normal Dağılım\n",
    "- Üniform Dağılım\n",
    "- Üstel Dağılım"
   ]
  },
  {
   "cell_type": "markdown",
   "id": "31742b6b",
   "metadata": {},
   "source": [
    "### Bernouilli Dağılımı"
   ]
  },
  {
   "cell_type": "markdown",
   "id": "1183cc4a",
   "metadata": {},
   "source": [
    "Başarılı-başarısız, olumlu-olumsuz şeklindeki iki sonuçlu olaylarda kullanılan kesikli olasılık dağılımıdır.\n",
    "\n",
    "${\\displaystyle f(k;p)=p^{k}(1-p)^{1-k}\\quad {\\text{for }}k\\in \\{0,1\\}}$\n",
    "\n",
    "Ortalama (Beklenen değer): ${\\displaystyle \\operatorname {E} \\left(X\\right)=p}$\n",
    "\n",
    "Varyans: $\\operatorname {Var} [X]=pq=p(1-p)$\n"
   ]
  },
  {
   "cell_type": "code",
   "execution_count": 22,
   "id": "a301d997",
   "metadata": {},
   "outputs": [],
   "source": [
    "# olasılık dağılımları işlemleri için scipy modülü kullanılacak.\n",
    "from scipy.stats import bernoulli"
   ]
  },
  {
   "cell_type": "code",
   "execution_count": 23,
   "id": "468c6abe",
   "metadata": {},
   "outputs": [],
   "source": [
    "# iki sonuçlu bir olayın, bir tanesinin gerçekleşmesi olasılığı 0.6 olarak belirledik.\n",
    "p = 0.6"
   ]
  },
  {
   "cell_type": "code",
   "execution_count": 24,
   "id": "89ee809f",
   "metadata": {},
   "outputs": [
    {
     "data": {
      "text/plain": [
       "(0.4, 0.6)"
      ]
     },
     "execution_count": 24,
     "metadata": {},
     "output_type": "execute_result"
    }
   ],
   "source": [
    "rv=bernoulli(p)\n",
    "rv.pmf(k=0) ,rv.pmf(k=1) # iki sonuçlu durumlardan her birinin gerçekleşme olasılığını hesaplar.\n",
    "# pmf -> probability mass function -> olasılık kütle fonksiyonu"
   ]
  },
  {
   "cell_type": "markdown",
   "id": "bbf419bf",
   "metadata": {},
   "source": [
    "### Büyük Sayılar Yasası"
   ]
  },
  {
   "cell_type": "markdown",
   "id": "5e4417f9",
   "metadata": {},
   "source": [
    "Bir rassal değişkenin <b>uzun vadeli</b> kararlılığını tanımlayan olasılık teoremidir.\n",
    "<p> Örnek olması açısından yazı-tura olasılığının deney sayısı arttıkça %50 ihtimale yaklaştığını gözlemleyelim </p>"
   ]
  },
  {
   "cell_type": "code",
   "execution_count": 25,
   "id": "eaddd095",
   "metadata": {
    "scrolled": true
   },
   "outputs": [
    {
     "name": "stdout",
     "output_type": "stream",
     "text": [
      "Atış sayısı: 2 --- Yazı olasılığı: 100.00\n",
      "Atış sayısı: 4 --- Yazı olasılığı: 50.00\n",
      "Atış sayısı: 8 --- Yazı olasılığı: 62.50\n",
      "Atış sayısı: 16 --- Yazı olasılığı: 31.25\n",
      "Atış sayısı: 32 --- Yazı olasılığı: 59.38\n",
      "Atış sayısı: 64 --- Yazı olasılığı: 57.81\n",
      "Atış sayısı: 128 --- Yazı olasılığı: 49.22\n",
      "Atış sayısı: 256 --- Yazı olasılığı: 46.09\n",
      "Atış sayısı: 512 --- Yazı olasılığı: 46.88\n",
      "Atış sayısı: 1024 --- Yazı olasılığı: 49.32\n",
      "Atış sayısı: 2048 --- Yazı olasılığı: 50.24\n",
      "Atış sayısı: 4096 --- Yazı olasılığı: 49.95\n",
      "Atış sayısı: 8192 --- Yazı olasılığı: 49.65\n",
      "Atış sayısı: 16384 --- Yazı olasılığı: 50.20\n",
      "Atış sayısı: 32768 --- Yazı olasılığı: 50.11\n",
      "Atış sayısı: 65536 --- Yazı olasılığı: 49.66\n",
      "Atış sayısı: 131072 --- Yazı olasılığı: 50.01\n",
      "Atış sayısı: 262144 --- Yazı olasılığı: 50.18\n",
      "Atış sayısı: 524288 --- Yazı olasılığı: 49.95\n",
      "Atış sayısı: 1048576 --- Yazı olasılığı: 50.00\n"
     ]
    }
   ],
   "source": [
    "rng=np.random.RandomState(1) # her seferinde aynı örneklerle çalışmak için\n",
    "for i in np.arange(1,21):\n",
    "    deney_sayisi=2**i\n",
    "    yazi_tura=rng.randint(0,2,size=deney_sayisi)\n",
    "    yazi_olasiligi=np.mean(yazi_tura)\n",
    "    print(\"Atış sayısı:\",deney_sayisi,\"---\",\"Yazı olasılığı: %.2f\"%(yazi_olasiligi*100))"
   ]
  },
  {
   "cell_type": "markdown",
   "id": "7c6b7649",
   "metadata": {},
   "source": [
    "### Binom Dağılımı"
   ]
  },
  {
   "cell_type": "markdown",
   "id": "a63d8d89",
   "metadata": {},
   "source": [
    "Binom dağılımı, bağımsız n deneme sonucu k başarılı olma olasılığı ile ilgilenildiğinde kullanılan dağılımdır.\n",
    "<p> Bernouilli dağılımının n defa gerçekleştirilmiş versiyonudur. </p>\n",
    "\n",
    "${\\displaystyle f(x;n,p)=\\binom{n}{x} p^{x}(1-p)^{n-x}\\quad {\\text{, }}x = \\{0,1,2,...,n\\}}$\n",
    "\n",
    "Ortalama (Beklenen değer): ${\\displaystyle \\operatorname {E} \\left(X\\right)=np}$\n",
    "\n",
    "Varyans: $\\operatorname {Var} [X]=np(1-p)$\n",
    "\n",
    "--------------------------------------------------\n",
    "Formüllere göre;\n",
    "<p> Bir madeni para 4 kere atılıyor. 2 kere yazı gelmesi olasılığı nedir ? </p>\n",
    "\n",
    "${\\displaystyle f(2;4,0.50)=\\binom{4}{2} 0.50^{2}(1-0.50)^{4-2}\\quad=0.375}$\n",
    "\n",
    "-------------------------\n",
    "Problem:\n",
    "- <p> Çeşitli mecralarda reklam veriliyor, reklamların tıklanma ve geri dönüşüm oranları optimize edilmeye çalışılıyor. Buna yönelik olarak belirli bir mecrada çeşitli senaryolara göre reklama tıklama olasılıkları hesaplanmak isteniliyor. </p>\n",
    "\n",
    "Detaylar:\n",
    "- Bir mecrada reklam verilecek.\n",
    "- Dağılım ve reklama tıklanma olasılığı biliniyor (0.01).\n",
    "- <b> Soru: </b> Reklamı 100 kişi gördüğünde 1,5,10 tıklanma olasılıkları nelerdir?"
   ]
  },
  {
   "cell_type": "code",
   "execution_count": 26,
   "id": "28e68c36",
   "metadata": {},
   "outputs": [],
   "source": [
    "from scipy.stats import binom"
   ]
  },
  {
   "cell_type": "code",
   "execution_count": 27,
   "id": "25a10939",
   "metadata": {},
   "outputs": [
    {
     "name": "stdout",
     "output_type": "stream",
     "text": [
      "1 tıklanma olasılığı: 0.36972963764971983\n",
      "5 tıklanma olasılığı: 0.0028977871237616114\n",
      "10 tıklanma olasılığı: 7.006035693977161e-08\n"
     ]
    }
   ],
   "source": [
    "p=0.01\n",
    "n=100\n",
    "rv=binom(n,p)\n",
    "print(\"1 tıklanma olasılığı:\",rv.pmf(1)) # pmf: olasılık kütle fonksiyonu\n",
    "print(\"5 tıklanma olasılığı:\",rv.pmf(5))\n",
    "print(\"10 tıklanma olasılığı:\",rv.pmf(10))"
   ]
  },
  {
   "cell_type": "markdown",
   "id": "e687eb82",
   "metadata": {},
   "source": [
    "### Poisson Dağılımı"
   ]
  },
  {
   "cell_type": "markdown",
   "id": "e0594b83",
   "metadata": {},
   "source": [
    "Belirli bir zaman aralığında, belirli bir alanda <b>nadiren</b> rastlanan olayların olasılıklarını hesaplamak için kullanılır.\n",
    "<p> Poisson dağılımı, binom dağılımının özel bir halidir. </p> \n",
    "n: büyük, p: küçük olması beklenmektedir.\n",
    "\n",
    "Bir olayın nadir kabul edilebilmesi için; \n",
    "- n>50 olması,\n",
    "- 𝜆(n*p)<5 kabulüne dayanmaktadır.\n",
    "\n",
    "\n",
    "${\\displaystyle  f(x,\\lambda)=\\dfrac{\\lambda^{x}(e)^{-\\lambda}}{x!}\\quad, {\\text{}}x=0,1,2,...,n}$\n",
    "\n",
    "Varyans: $\\operatorname {Var} [X]=\\lambda$ \n",
    "\n",
    "Ortalama (Beklenen değer): ${\\displaystyle \\operatorname {E} \\left(X\\right)=\\lambda}$\n",
    "\n",
    "-----\n",
    "Poisson dağılımı nadire denilebilinecek olayların gerçekleşme olasılığı ile ilgilendiğinden bunlara birkaç örnek verelim.\n",
    "- 10.000 kelimeden oluşan bir kitapta hatalı kelime sayısı\n",
    "- 4000 öğrencili okulda not girişinde hata yapılması\n",
    "- Kredi kartı işlemlerinde sahtekarlık olması\n",
    "- Rötara düşen uçuş sefer sayısı\n",
    "\n",
    "-------------\n",
    "Problem:\n",
    "- Bir şirket, kullanıcılarına web üzerinden bir ilan yayınlama hizmeti vermektedir. Yayınlanan ilanlar arasından hatalı ilan girşi olasılıkları hesaplanmak isteniliyor.\n",
    "\n",
    "Detaylar\n",
    "- Bir yıl süresince ölçümler yapılıyor.\n",
    "- Dağılım biliniyor (Poisson) ve Lambda 0.1 (ortalama hata sayısı).\n",
    "- Hiç hatalı ilan olmaması, 3 hatalı ilan olması ve 5 hatalı ilan olması olasılıkları nelerdir?"
   ]
  },
  {
   "cell_type": "code",
   "execution_count": 28,
   "id": "608c58ca",
   "metadata": {},
   "outputs": [],
   "source": [
    "from scipy.stats import poisson"
   ]
  },
  {
   "cell_type": "code",
   "execution_count": 29,
   "id": "c9d07117",
   "metadata": {},
   "outputs": [],
   "source": [
    "lambda_=0.1"
   ]
  },
  {
   "cell_type": "code",
   "execution_count": 30,
   "id": "338bb1b1",
   "metadata": {},
   "outputs": [
    {
     "name": "stdout",
     "output_type": "stream",
     "text": [
      "0 hatalı ilan yayınlanma olasılığı: 0.09048374180359597\n",
      "3 hatalı ilan yayınlanma olasılığı: 0.00015080623633932676\n",
      "5 hatalı ilan yayınlanma olasılığı: 7.54031181696634e-08\n"
     ]
    }
   ],
   "source": [
    "rv=poisson(mu = lambda_)\n",
    "print(\"0 hatalı ilan yayınlanma olasılığı:\",rv.pmf(1)) # pmf: olasılık kütle fonksiyonu\n",
    "print(\"3 hatalı ilan yayınlanma olasılığı:\",rv.pmf(3))\n",
    "print(\"5 hatalı ilan yayınlanma olasılığı:\",rv.pmf(5))"
   ]
  },
  {
   "cell_type": "markdown",
   "id": "ef4f305a",
   "metadata": {},
   "source": [
    "### Normal Dağılım"
   ]
  },
  {
   "cell_type": "markdown",
   "id": "3c246a68",
   "metadata": {},
   "source": [
    "Normal dağıldığı bilinen sürekli rassal değişkenler için olasılık hesaplaması için kullanılır.\n",
    "\n",
    "${\\displaystyle  f(x|\\mu,\\sigma ^{2})=\\dfrac{1}{\\sqrt{2\\pi\\sigma ^{2}}}e^{-\\dfrac{(x-\\mu)^{2}}{2\\sigma ^{2}}}}$\n",
    "\n",
    "Varyans: $\\operatorname {Var} [X]=\\sigma ^{2} $ \n",
    "\n",
    "Ortalama (Beklenen değer): ${\\displaystyle \\operatorname {E} \\left(X\\right)=\\mu}$\n",
    "\n",
    "-------\n",
    "Problem:\n",
    "- Bir toplantı öncesinde gelecek ayla ilgili satışların belirli değerlerde gerçekleşmesi olasılıkları belirlenmek isteniyor.\n",
    "\n",
    "Detaylar:\n",
    "- Dağılımın normal olduğu biliniyor.\n",
    "- Aylık ortalama satış sayısı 80K, standart sapması 5K\n",
    "- 90K'dan fazla satış yapılması olasılığı nedir?\n",
    "\n",
    "Bakıldığı zaman aslında şunu görüyor olmamız lazım; ortalama değerimiz 80k, standart sapma değerimiz ise 5k'dır. Ortalama üzerine standart sapmayı eklediğimizde 85k, çıkarttığımızda 75k olmaktadır. Yani satışların bu iki aralıkta olma olasılığı yüksektir. Buradan yola çıkarak 90K'dan fazla satış yapılması olasılığının düşük olabileceğini ön görebiliriz."
   ]
  },
  {
   "cell_type": "code",
   "execution_count": 31,
   "id": "643f4072",
   "metadata": {},
   "outputs": [],
   "source": [
    "from scipy.stats import norm"
   ]
  },
  {
   "cell_type": "code",
   "execution_count": 32,
   "id": "000a587c",
   "metadata": {},
   "outputs": [],
   "source": [
    "mu=80\n",
    "std=5"
   ]
  },
  {
   "cell_type": "code",
   "execution_count": 33,
   "id": "84ef1a16",
   "metadata": {},
   "outputs": [
    {
     "data": {
      "text/plain": [
       "0.02275013194817921"
      ]
     },
     "execution_count": 33,
     "metadata": {},
     "output_type": "execute_result"
    }
   ],
   "source": [
    "# 90K'dan fazla satış yapılması olasılığı\n",
    "1-norm.cdf(90,80,5) # kümülatif yoğunluk fonksiyonu\n",
    "# 1'den çıkartmamızın sebebi yoğunluk fonksiyonu alanından 90'dan büyük alanına baktığımız içindir."
   ]
  },
  {
   "cell_type": "code",
   "execution_count": 34,
   "id": "2095f2f2",
   "metadata": {},
   "outputs": [
    {
     "data": {
      "text/plain": [
       "0.9772498680518208"
      ]
     },
     "execution_count": 34,
     "metadata": {},
     "output_type": "execute_result"
    }
   ],
   "source": [
    "# 70K'dan fazla satış yapılması olasılığı\n",
    "1-norm.cdf(70,80,5) # kümülatif yoğunluk fonksiyonu"
   ]
  },
  {
   "cell_type": "code",
   "execution_count": 35,
   "id": "d26b3965",
   "metadata": {},
   "outputs": [
    {
     "data": {
      "text/plain": [
       "0.08075665923377107"
      ]
     },
     "execution_count": 35,
     "metadata": {},
     "output_type": "execute_result"
    }
   ],
   "source": [
    "# 73K'dan az satış yapılması olasılığı\n",
    "norm.cdf(73,80,5) # kümülatif yoğunluk fonksiyonu\n",
    "# Burada ise az olması olasılığı istendiği için 1'den çıkartmaya gerek yoktur."
   ]
  },
  {
   "cell_type": "code",
   "execution_count": 36,
   "id": "8156e24d",
   "metadata": {},
   "outputs": [
    {
     "data": {
      "text/plain": [
       "0.13590512198327787"
      ]
     },
     "execution_count": 36,
     "metadata": {},
     "output_type": "execute_result"
    }
   ],
   "source": [
    "# 85K ile 90K arasında satış yapılması olasılığı\n",
    "norm.cdf(90,80,5) - norm.cdf(85,80,5) # kümülatif yoğunluk fonksiyonu\n",
    "# integral alanı hesabı gibi (taralı alan)."
   ]
  },
  {
   "cell_type": "markdown",
   "id": "35280830",
   "metadata": {},
   "source": [
    "## Hipotez Testleri"
   ]
  },
  {
   "cell_type": "markdown",
   "id": "4c9bcbc9",
   "metadata": {},
   "source": [
    "Hipotez, bir savı, inanışı, tahmini test etmek için kullanılan istatiksel bir tekniktir.\n",
    "\n",
    "<p> Hipotez türleri: </p>\n",
    "\n",
    "- Ho:mü=50, Hı:mü!=50\n",
    "- Ho:mü<=50, Hı:mü>50\n",
    "- Ho:mü>=50, Hı:mü<50\n",
    "\n",
    "Maddelerde görüldüğü üzere, Ho hipotezi bizim asıl hipotemiz ise Hı hipotezi alternatif hipotezimiz olacaktır."
   ]
  },
  {
   "cell_type": "markdown",
   "id": "0e4e9695",
   "metadata": {},
   "source": [
    "### Hipotez Testi Adımları\n",
    "- Hipotezlerin kurulması ve yönlerinin belirlenmesi (Ho ve Hı hipotezlerinin kurulması)\n",
    "- Anlamlılık düzeyinin ve tablo değerinin belirlenmesi (alfa = 0.05)\n",
    "- Test istatistiğinin belirlenmesi ve test istatistiğinin hesaplanması\n",
    "- Hesaplanan test istatistiği ile alfa'ya karşılık gelen tablo değerinin karşılaştırılması (2.adım ve 3.adımdaki değerlerin karşılaştırılması)\n",
    "    - Test istatistiği(Zh) > Tablo değeri (Zt) ise Ho Reddedilir.\n",
    "- Yorumlama"
   ]
  },
  {
   "cell_type": "markdown",
   "id": "7522795f",
   "metadata": {},
   "source": [
    "### Tek Örneklem T Testi\n",
    "<p>Popülasyon ortalaması ile varsayımsal bir değer arasında istatistiksel olarak anlamlı bir farklılık olup olmadığını test etmek için kullanılan parametrik bir testtir. </p>\n",
    "<p> 10.000 kişilik bir ilçeden çekilen 100 örneğe tek örnek denir. Bu örnek üzerinden anakitleye yani popülasyon ortalamasına ilişkin bir değerlendirmede bulunulacaksa tek örneklem t testi kullanılmalıdır. </p>\n",
    "<p>Özetle T testi, elimizde tek bir örneklemin ortalamasına ilişkin test yapma ihtiyacı olduğunda kullanılan testtir (Bir ilçenin yaş ortalaması, kullanıcıların web sayfasında geçirdiği süre gibi). </p>\n",
    "\n",
    "<p>Hipotez testi adımlarına göre:</p>\n",
    "\n",
    "<b>Hipotezler</b>\n",
    "- Ho:mü=50, Hı:mü!=50\n",
    "- Ho:mü<=50, Hı:mü>50\n",
    "- Ho:mü>=50, Hı:mü<50\n",
    "\n",
    "<b>Test istatistiği</b>\n",
    "\n",
    "T tablosu için: ${\\displaystyle  t=\\dfrac{x ̅-\\mu}{\\dfrac{s}{\\sqrt{n}}}}$, Z tablosu için: ${\\displaystyle  z=\\dfrac{x ̅-\\mu}{\\dfrac{\\sigma}{\\sqrt{n}}}}$\n",
    "\n",
    "Tek örneklem t testinde, test istatiğine karar vermek için yapılacak olan seçimler:\n",
    "\n",
    "- Anakütle standart sapması biliniyorsa z istatistiği kullanılır.\n",
    "- Anakütle standart sapması bilinmiyorsa ve n>30 ise z istatistiği kullanılır.\n",
    "- Anakütle standart sapması bilinmiyor ve n<30 ise t istatistiği kullanılır.\n",
    "\n",
    "Veri bilimi kapsamında genelde n (örnek sayısı) > 30 olacağından dolayı ve örnek sayısı arttıkça t dağılımı, z dağılımına yaklaşacağından dolayı genelde t üzerinden işlemler yapılacaktır.\n",
    "\n",
    "<b>Varsayımlar</b>\n",
    "\n",
    "Hipotez testlerinde varsayımlar test edilmelidir. Eğer varsayım sağlanırsa ilgili hipotez testi kullanılabilir, sağlanmıyorsa Nan-parametrik hipotez testleri ele alınır. Gerçek verilerde ve çalışmalarda da genelde Nan-parametrik durumlar söz konusu olmaktadır.  \n",
    "\n",
    "--------------------------\n",
    "<b>İş Uygulaması Problemi</b>\n",
    "\n",
    "Problem:\n",
    "- Sepete ürün ekleme işlemi sonrasında ödeme ekranında 5 adım vardır ve bu adımların birisi sorgulanmaktadır (Sepete ürün ekle, fatura bilgisini gir, adresi gir gibi adımlar). \n",
    "\n",
    "Detaylar:\n",
    "- Her adımın 20'şer saniye olması hedefi vardır ve buna göre 4.adım sorgulanıyor.\n",
    "- Bu durumu test etmek için 100 örnek alınıyor.\n",
    "- Örnek standart sapması 5 saniye, ortalaması ise 19 saniye bulunuyor.\n",
    "\n",
    "Yani\n",
    "- Örnek üzerinden bulunan ortalama=19, Sınamış olduğumuz hipotezdeki değer 𝜇=20, Örneği ifade eden standrat sapma(s) 𝜎=5, Örnek sayımız(n)=100\n",
    "\n",
    "Şimdi problemi hipotez testi adımlarına göre bir iş uygulamasına entegre edelim\n",
    "\n",
    "<b>İş Uygulaması</b>\n",
    "- <b>Adım 1:</b> Hiptezlerin kurulması ve yönlerinin belirlenmesi\n",
    "    - Ho:mü=20 (Bilinmeyen anakütle parametresi mü, yani kişilerin 4.adımda geçirmiş oldukları süre ortalaması 20 saniyedir demektir.)\n",
    "    - Hı:mü!=20 (Bilinmeyen anakütle parametresi mü, yani kişilerin 4.adımda geçirmiş oldukları süre ortalaması 20 saniyeden farklıdır demektir.)\n",
    "    \n",
    "- <b>Adım 2:</b> Anlamlılık düzeyinin ve tablo değerinin belirlenmesi\n",
    "    - Anlamlılık düzeyi yani alfa; kabul edilebilir hata miktarı = 0,05\n",
    "    - Alternatif hiptez iki yönlü olduğundan dolayı alfa/2 = 0,025\n",
    "    - Alternatif hiptez büyüktür ya da küçüktür şeklinde tek yönlü olsaydı, bu durumda alfayı olduğu gibi kabul edip, bu alfa değerine karşılık gelen tablo değerine bakılacaktı.\n",
    "    - Z tablo olasılık değeri: 0,5 - 0.025 = 0,475\n",
    "    - Yukarıda bulunan değerin (0,475) z tablosundaki değeri = -/+ 1,96\n",
    "    \n",
    "- <b>Adım 3:</b> Test istatistiğinin belirlenmesi ve test istatistiğinin hesaplanması\n",
    "    - Bu örnekte n>30 olduğu için z tablosuna göre hesaplama yapıyoruz: ${\\displaystyle  z=\\dfrac{x ̅-\\mu}{\\dfrac{\\sigma}{\\sqrt{n}}}}$\n",
    "    - ${\\displaystyle  z=\\dfrac{19-20}{\\dfrac{5}{\\sqrt{100}}} = -2,00}$\n",
    "\n",
    "- <b>Adım 4:</b> Hesaplanan test istatistiği ile alfa'ya karşılık gelen tablo değerinin karşılaştırılması (2.adım ve 3.adımdaki değerlerin karşılaştırılması)\n",
    "    - Zhesap = -2,00 ve Ztablo = -1,96\n",
    "    - Zh > Zt veya -Zh < -Zt ise Ho reddedilir.\n",
    "    - -2,00 < -1,96 olduğu için Ho reddedilir.\n",
    "\n",
    "- <b>Adım 5:</b> Yorumlama\n",
    "    - Ho:mü=20 \n",
    "    - Hı:mü!=20\n",
    "    - 4.adımda geçirilen sürenin 20 saniye olduğunu iddia eden Ho hipotezi reddedilmiştir. Buna göre kullanıcılar istatistiksel olarak %95 güvenilirlik ile 4. adımda 20 saniyeden farklı zaman geçirmektedir.\n",
    "    \n",
    "Bu değerlendirme sonucu şirket sonuçlara göre, gerekli kararları alarak müşterilerine hizmet sunabilir."
   ]
  },
  {
   "cell_type": "markdown",
   "id": "9442c806",
   "metadata": {},
   "source": [
    "<b>İş Uygulaması Problemi 2</b>\n",
    "\n",
    "Problem:\n",
    "- Web sitesinde geçirilen ortalama süre 170 saniye mi?\n",
    "\n",
    "Detaylar:\n",
    "- Yazılımlardan elde edilen web sitesinde geçirilen ortalama süreler bulunmakta.\n",
    "- Bu veriler incelendiğinde bir yönetici ya da çalışanımız bu değerlerin böyle olmadığına yönelik düşünceler taşıyor ve bu durumu test etmek istiyorlar.\n",
    "\n",
    "Hipotezler:\n",
    "- Ho: mü=170\n",
    "- Hı: mü!=170"
   ]
  },
  {
   "cell_type": "code",
   "execution_count": 37,
   "id": "ac0256dd",
   "metadata": {},
   "outputs": [],
   "source": [
    "olcumler=np.array([17,160,234,149,145,107,195,75,100,60,215,205,123,145,155,127,244,163,114,145,65,112,185,202,164,206,244,\\\n",
    "                  188,156,187,154,177,95,170,50,110,306,110,171,166,135,155,126,84,251,173,131,207,135,86])"
   ]
  },
  {
   "cell_type": "code",
   "execution_count": 38,
   "id": "f2d36e61",
   "metadata": {},
   "outputs": [],
   "source": [
    "import scipy.stats as stats"
   ]
  },
  {
   "cell_type": "code",
   "execution_count": 39,
   "id": "a61605f8",
   "metadata": {},
   "outputs": [
    {
     "data": {
      "text/plain": [
       "DescribeResult(nobs=50, minmax=(17, 306), mean=151.58, variance=3216.1261224489795, skewness=0.141025415593888, kurtosis=0.1906040993242577)"
      ]
     },
     "execution_count": 39,
     "metadata": {},
     "output_type": "execute_result"
    }
   ],
   "source": [
    "stats.describe(olcumler)"
   ]
  },
  {
   "cell_type": "code",
   "execution_count": 40,
   "id": "c5f1506e",
   "metadata": {},
   "outputs": [],
   "source": [
    "# Varsayım Kontrolü\n",
    "# normallik varsayımı"
   ]
  },
  {
   "cell_type": "markdown",
   "id": "b3a2146d",
   "metadata": {},
   "source": [
    "Normallik varsayımına bakmadan Tek Örneklem testini uygulamıyoruz. Bu yüzden önce grafiksel olarak daha sonra ise nümerik olarak normallik varsayımını bakar, normallik sağlanıyorsa teste devam ederiz.\n",
    "\n",
    "Bunun içinde hipotez kuracak olursak asıl hipotezimizin alt bir hipotezi normalliği kontrol etmektedir.\n",
    "\n",
    "Ho: Örnek dağılımı ile teorik dağılım arasında istatistiksel olarak anlamlı bir farklılık yoktur.\n",
    "\n",
    "Hı: Örnek dağılımı ile teorik dağılım arasında istatistiksel olarak anlamlı bir farklılık vardır."
   ]
  },
  {
   "cell_type": "code",
   "execution_count": 41,
   "id": "3e9bdd23",
   "metadata": {},
   "outputs": [
    {
     "data": {
      "image/png": "[encoded data removed]",
      "text/plain": [
       "<Figure size 640x480 with 1 Axes>"
      ]
     },
     "metadata": {},
     "output_type": "display_data"
    }
   ],
   "source": [
    "# grafiksel bakış\n",
    "# qqplot\n",
    "import pylab\n",
    "stats.probplot(olcumler,dist=\"norm\",plot=pylab)\n",
    "pylab.show()"
   ]
  },
  {
   "cell_type": "code",
   "execution_count": 42,
   "id": "2518a0f5",
   "metadata": {},
   "outputs": [],
   "source": [
    "# nümerik bakış\n",
    "# Shapiro-Wilks Testi"
   ]
  },
  {
   "cell_type": "code",
   "execution_count": 43,
   "id": "d769c535",
   "metadata": {},
   "outputs": [],
   "source": [
    "from scipy.stats import shapiro"
   ]
  },
  {
   "cell_type": "code",
   "execution_count": 44,
   "id": "142131f0",
   "metadata": {},
   "outputs": [
    {
     "data": {
      "text/plain": [
       "ShapiroResult(statistic=0.9941518306732178, pvalue=0.9970465898513794)"
      ]
     },
     "execution_count": 44,
     "metadata": {},
     "output_type": "execute_result"
    }
   ],
   "source": [
    "shapiro(olcumler)"
   ]
  },
  {
   "cell_type": "markdown",
   "id": "44058a62",
   "metadata": {},
   "source": [
    "P-value > alfa (0.05) olduğu için, Ho hipotezi reddedilemez. Yani artık Parametrik Tek Örneklem T Testini uygulayabiliriz."
   ]
  },
  {
   "cell_type": "code",
   "execution_count": 45,
   "id": "47f65c3c",
   "metadata": {},
   "outputs": [],
   "source": [
    "# Hipotez Testi Uygulanması\n",
    "# Parametrik Tek Örneklem T Testi"
   ]
  },
  {
   "cell_type": "code",
   "execution_count": 46,
   "id": "6b031487",
   "metadata": {},
   "outputs": [
    {
     "data": {
      "text/plain": [
       "Ttest_1sampResult(statistic=-2.2967202113850647, pvalue=0.025948662777607975)"
      ]
     },
     "execution_count": 46,
     "metadata": {},
     "output_type": "execute_result"
    }
   ],
   "source": [
    "stats.ttest_1samp(olcumler,popmean=170)"
   ]
  },
  {
   "cell_type": "markdown",
   "id": "de84637c",
   "metadata": {},
   "source": [
    "Ho: Web sitesinde geçirilen ortalama süre 170 saniyedir.\n",
    "\n",
    "Hı: Web sitesinde geçirilen ortalama süre 170 saniyeden farklıdır.\n",
    "\n",
    "p-value(0.0259)< alfa(0.05) olduğundan dolayı, Ho hipotezi reddedilir. Yani web sitesinde geçirilen ortalama süre 170 değildir."
   ]
  },
  {
   "cell_type": "code",
   "execution_count": 47,
   "id": "d099a3fc",
   "metadata": {},
   "outputs": [],
   "source": [
    "# Nonparametrik Tek Örneklem Testi\n",
    "# eğer yukarıdaki varsayım hipotezini reddetseydik, dağılım normal olmasaydı,\n",
    "# yani; Örnek dağılımı ile teorik dağılım arasında istatistiksel olarak anlamlı bir farklılık olsaydı\n",
    "# Nonparametrik Tek Örneklem Testini uygulayacaktık. Yine de lazım olması ve öğrenilmesi açısından nasıl kurulduğunu görelim."
   ]
  },
  {
   "cell_type": "code",
   "execution_count": 48,
   "id": "192dc6b5",
   "metadata": {},
   "outputs": [],
   "source": [
    "from statsmodels.stats.descriptivestats import sign_test"
   ]
  },
  {
   "cell_type": "code",
   "execution_count": 49,
   "id": "78172953",
   "metadata": {},
   "outputs": [
    {
     "data": {
      "text/plain": [
       "(25.0, 1.7763568394002505e-15)"
      ]
     },
     "execution_count": 49,
     "metadata": {},
     "output_type": "execute_result"
    }
   ],
   "source": [
    "sign_test(olcumler) "
   ]
  },
  {
   "cell_type": "markdown",
   "id": "f2846ae3",
   "metadata": {},
   "source": [
    "### Tek Örneklem Oran Testi\n",
    "Oransal bir ifade test edilmek istenildiğinde kullanılır. Mantık olarak Tek Örneklem T Testine benzerdir fakat ilgilenilen ifade burada oransal bir ifadedir.\n",
    "\n",
    "Burada kullanılan test istatistiği:\n",
    "\n",
    "${\\displaystyle  z=\\dfrac{p^ş-p0}{\\sqrt{\\dfrac{p0(1-po)}{n}}}}$\n",
    "\n",
    "${\\displaystyle p^ş}$: Örnek üzerinden elde edilen değer.\n",
    "\n",
    "p0: sınanmak istenen değer.\n",
    "\n",
    "Varsayım:\n",
    "\n",
    "n>30 olduğu sürece bu test uygulanabilir.\n",
    "\n",
    "----------------\n",
    "\n",
    "<b>İş Uygulaması Problemi (Dönüşüm Oranı Testi)</b>\n",
    "\n",
    "Dönüşüm oranı, potansiyel müşterilerin veya ürünü inceleyen kişilerin, ürün sahibi kişilere yani müşterilere dönüşme oranıdır. Yani bir sitedeki ürün reklamını 100 görmüş ve içlerinden sadece 5 kişi almış ise dönüşüm oranı 0.05'tir.\n",
    "\n",
    "Problem:\n",
    "- Bir yazılım ile bir mecrada reklam verilmiş bu reklama ilişkin yazılım tarafından 0.125 dönüşüm oranı elde edildiği ifade edilmiş. Bu durum kontrol edilmek isteniyor. Çünkü bu yüksek bir oran ve gelirler incelendiğinde örtüşmüyor.\n",
    "\n",
    "Detaylar:\n",
    "- 500 kişi dış mecrada reklamlara tıklamış, 40 tanesi siteye girip alışveirş yapmış.\n",
    "- Örnek üzerinden elde edilen dönüşüm oranı: 40/500 = 0,08\n",
    "\n",
    "Hipotezler:\n",
    "- Ho:P=0.125\n",
    "- Hı:P!=0.125"
   ]
  },
  {
   "cell_type": "code",
   "execution_count": 50,
   "id": "f2ef3fb4",
   "metadata": {},
   "outputs": [],
   "source": [
    "from statsmodels.stats.proportion import proportions_ztest"
   ]
  },
  {
   "cell_type": "code",
   "execution_count": 51,
   "id": "750eb632",
   "metadata": {},
   "outputs": [],
   "source": [
    "count=40 # başarı sayısı\n",
    "nobs=500 # gözlem sayısı\n",
    "value=0.125 # test etmek istenen değer"
   ]
  },
  {
   "cell_type": "code",
   "execution_count": 52,
   "id": "b864906e",
   "metadata": {},
   "outputs": [
    {
     "data": {
      "text/plain": [
       "(-3.7090151628513017, 0.0002080669689845979)"
      ]
     },
     "execution_count": 52,
     "metadata": {},
     "output_type": "execute_result"
    }
   ],
   "source": [
    "proportions_ztest(count, nobs, value)"
   ]
  },
  {
   "cell_type": "markdown",
   "id": "4a26cf60",
   "metadata": {},
   "source": [
    "Görüldüğü üzere p-value değeri(0.0002), çalışmanın başında kabul edilebilir hata miktarı olan alfa'dan(0.05) küçük olduğu için Ho hipotezi reddedilir."
   ]
  },
  {
   "cell_type": "markdown",
   "id": "cc238062",
   "metadata": {},
   "source": [
    "### Bağımsız İki Örneklem T Testi (AB TESTİ)\n",
    "İki grup ortalaması arasında karşılaştırma yapılmak istenildiğinde kullanılır.\n",
    "\n",
    "Hipotezler:\n",
    "- Ho: mü1=mü2 - Hı:mü1!=mü2\n",
    "- Ho: mü1>=mü2 - Hı:mü1<mü2\n",
    "- Ho: mü1<=mü2 - Hı:mü1!>mü2\n",
    "\n",
    "Test İstatistiği:\n",
    "- Örneklem sayıları aynı, varyanslar homojen ise:\n",
    "    - ${\\displaystyle  t=\\dfrac{X1 ̅- X2 ̅}{Sp\\sqrt{\\dfrac{2}{n}}}}$, ---    ${\\displaystyle  Sp=\\sqrt{\\dfrac{s^2 x1+ s^2 x2}{2}}}$ \n",
    "- Örnek sayısı farklı, varyanslar homojen ise:\n",
    "    - ${\\displaystyle  t=\\dfrac{X1 ̅- X2 ̅}{Sp\\sqrt{\\dfrac{1}{n1}+\\dfrac{1}{n2}}}}$, --- ${\\displaystyle  Sp=\\sqrt{\\dfrac{(n1-1)s^2 x1+ (n2-1) s^2 x2}{n1+n2-2}}}$ \n",
    "- Örnek sayıları farklı, varyanslar homojen değilse (Welch testi):\n",
    "    - ${\\displaystyle  t=\\dfrac{X1 ̅- X2 ̅}{Sdelta}}$, --- ${\\displaystyle  Sdelta=\\sqrt{\\dfrac{s1^2}{n1}+\\dfrac{s2^2}{n2}}}$ \n",
    "\n",
    "Varsayımlar:\n",
    "- Normallik (görsel: qqplot, hipotez testi: shapiro wilk testi)\n",
    "- Varyans Homojenliği (İki grubunda varyanslarının birbirine olan benzerliği)\n",
    "\n",
    "-----------\n",
    "\n",
    "<b>İş Uygulaması Problemi: ML Modelinin Başarı Testi (AB Testi)</b>\n",
    "\n",
    "Problem:\n",
    "- Bir ML projesine yatırım yapılmış. Ürettiği tahminler neticesinde oluşan gelir ile eski sistemin ürettiği gelirler karşılaştırlıp anlamlı farklılık olup olmadığı test edilmek isteniyor. A eski sistemi, B makine öğrenmesi modeline sahip yeni sistemi ifade ediyor.\n",
    "\n",
    "Detaylar:\n",
    "- Model geliştirilmiş ve web sitesine entegre edilmiş.\n",
    "- Site kullanıcıları belirli bir kurala göre ikiye bölünmüş olsun.\n",
    "- A grubu eski, B grubu yeni sistem.\n",
    "- Gelir anlamında anlamlı bir iş yapılıp yapılmadığı test edilmek isteniyor.\n",
    "\n",
    "Hipotezler:\n",
    "- Ho:mü1=mü2 (eski sistemin gelirlerinin ortalaması ve yeni sistemin gelirlerinin ortalaması birbirine eşittir.)\n",
    "- Hı:mü1!=mü2 (eski sistemin gelirlerinin ortalaması ve yeni sistemin gelirlerinin ortalaması birbirine eşit değildir.)"
   ]
  },
  {
   "cell_type": "code",
   "execution_count": 53,
   "id": "1c796da1",
   "metadata": {},
   "outputs": [],
   "source": [
    "import pandas as pd"
   ]
  },
  {
   "cell_type": "code",
   "execution_count": 54,
   "id": "67892fce",
   "metadata": {},
   "outputs": [],
   "source": [
    "# Veri oluşturma\n",
    "A=pd.DataFrame([30,27,21,27,29,30,20,20,27,32,35,22,24,23,25,27,23,27,23,25,21,18,24,26,33,26,27,28,19,25])\n",
    "B=pd.DataFrame([37,39,31,31,34,38,30,36,29,28,38,28,37,37,30,32,31,31,27,32,33,33,33,31,32,33,26,32,33,29])"
   ]
  },
  {
   "cell_type": "code",
   "execution_count": 55,
   "id": "06040712",
   "metadata": {},
   "outputs": [
    {
     "data": {
      "text/html": [
       "<div>\n",
       "<style scoped>\n",
       "    .dataframe tbody tr th:only-of-type {\n",
       "        vertical-align: middle;\n",
       "    }\n",
       "\n",
       "    .dataframe tbody tr th {\n",
       "        vertical-align: top;\n",
       "    }\n",
       "\n",
       "    .dataframe thead th {\n",
       "        text-align: right;\n",
       "    }\n",
       "</style>\n",
       "<table border=\"1\" class=\"dataframe\">\n",
       "  <thead>\n",
       "    <tr style=\"text-align: right;\">\n",
       "      <th></th>\n",
       "      <th>A</th>\n",
       "      <th>B</th>\n",
       "    </tr>\n",
       "  </thead>\n",
       "  <tbody>\n",
       "    <tr>\n",
       "      <th>0</th>\n",
       "      <td>30</td>\n",
       "      <td>37</td>\n",
       "    </tr>\n",
       "    <tr>\n",
       "      <th>1</th>\n",
       "      <td>27</td>\n",
       "      <td>39</td>\n",
       "    </tr>\n",
       "    <tr>\n",
       "      <th>2</th>\n",
       "      <td>21</td>\n",
       "      <td>31</td>\n",
       "    </tr>\n",
       "    <tr>\n",
       "      <th>3</th>\n",
       "      <td>27</td>\n",
       "      <td>31</td>\n",
       "    </tr>\n",
       "    <tr>\n",
       "      <th>4</th>\n",
       "      <td>29</td>\n",
       "      <td>34</td>\n",
       "    </tr>\n",
       "  </tbody>\n",
       "</table>\n",
       "</div>"
      ],
      "text/plain": [
       "    A   B\n",
       "0  30  37\n",
       "1  27  39\n",
       "2  21  31\n",
       "3  27  31\n",
       "4  29  34"
      ]
     },
     "execution_count": 55,
     "metadata": {},
     "output_type": "execute_result"
    }
   ],
   "source": [
    "# veri format 1\n",
    "A_B=pd.concat([A,B],axis=1)\n",
    "A_B.columns=['A','B']\n",
    "A_B.head()"
   ]
  },
  {
   "cell_type": "code",
   "execution_count": 56,
   "id": "6283830e",
   "metadata": {},
   "outputs": [],
   "source": [
    "# veri format 2\n",
    "A_grubu=np.arange(len(A))\n",
    "A_grubu=pd.DataFrame(A_grubu)\n",
    "A_grubu[:]='A'\n",
    "A=pd.concat([A,A_grubu],axis=1)\n",
    "\n",
    "B_grubu=np.arange(len(B))\n",
    "B_grubu=pd.DataFrame(B_grubu)\n",
    "B_grubu[:]='B'\n",
    "B=pd.concat([B,B_grubu],axis=1)\n",
    "\n",
    "AB=pd.concat([A,B])\n",
    "AB.columns=['Gelir','Grup']"
   ]
  },
  {
   "cell_type": "code",
   "execution_count": 57,
   "id": "916217cc",
   "metadata": {},
   "outputs": [],
   "source": [
    "import seaborn as sns\n",
    "import matplotlib.pyplot as plt"
   ]
  },
  {
   "cell_type": "code",
   "execution_count": 58,
   "id": "bf7884cb",
   "metadata": {
    "scrolled": true
   },
   "outputs": [
    {
     "data": {
      "image/png": "[encoded data removed]",
      "text/plain": [
       "<Figure size 640x480 with 1 Axes>"
      ]
     },
     "metadata": {},
     "output_type": "display_data"
    }
   ],
   "source": [
    "sns.boxplot(x='Grup',y='Gelir',data=AB)\n",
    "plt.show()"
   ]
  },
  {
   "cell_type": "markdown",
   "id": "78c4dfb4",
   "metadata": {},
   "source": [
    "Grafikten de yeni sistemin gelirinin daha iyi olduğu aslında gözükmektedir. Fakat bunun şans eseri mi olup olmadığını istatistiksel olarak kanıtlayarak %95 güvenilirlik ile bunu ispat etmeliyiz."
   ]
  },
  {
   "cell_type": "markdown",
   "id": "4c293b6c",
   "metadata": {},
   "source": [
    "#### Varsayım kontrolü\n",
    "- Normallik varsayımı\n",
    "- Varyans homojenliği varsayımı"
   ]
  },
  {
   "cell_type": "code",
   "execution_count": 59,
   "id": "a5934f4c",
   "metadata": {},
   "outputs": [],
   "source": [
    "# Normallik varsayımı\n",
    "from scipy.stats import shapiro"
   ]
  },
  {
   "cell_type": "markdown",
   "id": "ff7a7d82",
   "metadata": {},
   "source": [
    "Ho: Örnek dağılımı ile teorik dağılım arasında istatistiksel olarak anlamlı bir farklılık yoktur.\n",
    "\n",
    "Hı: Örnek dağılımı ile teorik dağılım arasında istatistiksel olarak anlamlı bir farklılık vardır."
   ]
  },
  {
   "cell_type": "code",
   "execution_count": 60,
   "id": "31923b2f",
   "metadata": {
    "scrolled": true
   },
   "outputs": [
    {
     "data": {
      "text/plain": [
       "(ShapiroResult(statistic=0.9789242148399353, pvalue=0.7962799668312073),\n",
       " ShapiroResult(statistic=0.9561260342597961, pvalue=0.24584221839904785))"
      ]
     },
     "execution_count": 60,
     "metadata": {},
     "output_type": "execute_result"
    }
   ],
   "source": [
    "shapiro(A_B.A),shapiro(A_B.B)\n",
    "# görüldüğü üzere p-value değerleri 0.05'ten büyük olduğu için Ho hipotezini reddedemeyiz."
   ]
  },
  {
   "cell_type": "code",
   "execution_count": 61,
   "id": "d809081b",
   "metadata": {},
   "outputs": [],
   "source": [
    "# Varyans homojenliği varsayımı"
   ]
  },
  {
   "cell_type": "markdown",
   "id": "235c9c0c",
   "metadata": {},
   "source": [
    "    \n",
    "Ho: Varyanslar homojendir.\n",
    "\n",
    "Hı: Varyanslar homojen değildir."
   ]
  },
  {
   "cell_type": "code",
   "execution_count": 62,
   "id": "eb39258e",
   "metadata": {},
   "outputs": [
    {
     "data": {
      "text/plain": [
       "LeveneResult(statistic=1.1101802757158004, pvalue=0.2964124900636569)"
      ]
     },
     "execution_count": 62,
     "metadata": {},
     "output_type": "execute_result"
    }
   ],
   "source": [
    "stats.levene(A_B.A, A_B.B)\n",
    "# yine görüldüğü üzere p-value değeri 0.05'ten büyük olduğu için Ho hipotezini reddedemeyiz."
   ]
  },
  {
   "cell_type": "markdown",
   "id": "3b76fef5",
   "metadata": {},
   "source": [
    "#### Hipotez Testini Uygulama"
   ]
  },
  {
   "cell_type": "code",
   "execution_count": 63,
   "id": "924f894d",
   "metadata": {},
   "outputs": [
    {
     "data": {
      "text/plain": [
       "Ttest_indResult(statistic=-7.028690967745927, pvalue=2.6233215605475075e-09)"
      ]
     },
     "execution_count": 63,
     "metadata": {},
     "output_type": "execute_result"
    }
   ],
   "source": [
    "stats.ttest_ind(A_B.A, A_B.B, equal_var=True) # equal_var = True, varyans homojenliğinin sağlandığını ifade eder."
   ]
  },
  {
   "cell_type": "markdown",
   "id": "cc720bc4",
   "metadata": {},
   "source": [
    "Hipotez testi sonucunda ortaya çıkan p-value değeri (2.62E-09), alfa değerinden (0.05) küçük olduğu için, Ho; eski sistemin gelirlerinin ortalaması ve yeni sistemin gelirlerinin ortalaması birbirine eşittir hipotezi reddedilir. \n",
    "\n",
    "Yani eski sistemin gelirlerinin ortalaması yeni sistemin gelirlerinin ortalamasına eşit değildir. Grafiksek olarak boxplot grafiğindende gördüğümüz gibi yeni sistemin ortalama gelirleri eski sistemin ortalama gelirlerinden daha iyidir."
   ]
  },
  {
   "cell_type": "markdown",
   "id": "4c3ac482",
   "metadata": {},
   "source": [
    "#### Nonparametrik Bağımsız İki Örneklem Testi\n",
    "Önceki örnekten gidecek olursak, oradaki varsayımların (normallik, varyans homojenliği) sağlanmadığı durumda mannwhitneyu testi uygulanır."
   ]
  },
  {
   "cell_type": "code",
   "execution_count": 64,
   "id": "82073453",
   "metadata": {},
   "outputs": [
    {
     "data": {
      "text/plain": [
       "MannwhitneyuResult(statistic=89.5, pvalue=4.778975189306267e-08)"
      ]
     },
     "execution_count": 64,
     "metadata": {},
     "output_type": "execute_result"
    }
   ],
   "source": [
    "stats.mannwhitneyu(A_B.A, A_B.B)"
   ]
  },
  {
   "cell_type": "markdown",
   "id": "0de72943",
   "metadata": {},
   "source": [
    "### Bağımlı İki Örneklem T Testi (AB TESTİ)\n",
    "\n",
    "Bağımsız İki Örneklem T Testi konusunda takip edilen tüm adımları içerisinde barındırır. En büyük farkı,Bağımlı İki Örneklem T Testinde olaylar birbirine bağımlıdır.\n",
    "\n",
    "Yani bir şirket çalışanlarına eğitim vermeyi ve buna bağlı olarak aylık satış miktarlarında bir artış olup olmadığını ölçmek istesin. Önce çalışanların eğitimden önceki aylık satış miktarları alınır, daha sonra eğitimden sonraki aylık satış oranlarına bakılır. Bu iki durum birbirine bağlı bir durumdur.\n",
    "\n",
    "Bir diğer fark ise, Nonparametrik Bağımlı İki Örneklem Testinde wilcoxon testi uygulanır."
   ]
  },
  {
   "cell_type": "markdown",
   "id": "b614d0e8",
   "metadata": {},
   "source": [
    "### İki Örneklem Oran Testi\n",
    "İki oran arasında karşılaştırma yapmak için kullanılır. \n",
    "\n",
    "Hipotezler:\n",
    "- Ho: p1=p2 - Hı:p1!=p2\n",
    "- Ho: p1>=p2 - Hı:p1<p2\n",
    "- Ho: p1<=p2 - Hı:p1!>p2\n",
    "\n",
    "Test İstatistiği:\n",
    "\n",
    "${\\displaystyle  Zh=\\dfrac{(p1- p2)}{\\sqrt{p(1-p)(\\dfrac{1}{n1}+\\dfrac{1}{n2})}}}$\n",
    "\n",
    "Varsayımlar:\n",
    "- n1 ve n2 > 30\n",
    "\n",
    "-----\n",
    "\n",
    "<b>İş Uygulaması Problemi: Kullanıcı Arayüzü Deneyi (AB Testi)</b>\n",
    "\n",
    "Problem:\n",
    "- Bir şirket, bir web sitesi tasarımında buton renginin kırmızı ve yeşil olması üzerinden, ziyaret edilme oranını tespit etmek istiyor.\n",
    "\n",
    "Detaylar:\n",
    "- yeşil butonu 1000 kişi görmüş ve 300 kişi tıklayarak siteyi ziyaret etmiş.\n",
    "- kırmızı butonu 1100 kişi görmüş ve 250 kişi tıklayarak siteyi ziyaret etmiş.\n",
    "\n",
    "Hipotezler:\n",
    "- Ho:p1=p2 (buton renginin kırmızı ya da yeşil olması ziyaret edilme oranında bir farklılık yaratmaz.)\n",
    "- Hı:p1!=p2 (buton renginin kırmızı ya da yeşil olması ziyaret edilme oranında bir farklılık yaratır.)"
   ]
  },
  {
   "cell_type": "code",
   "execution_count": 65,
   "id": "01aca4ea",
   "metadata": {},
   "outputs": [],
   "source": [
    "from statsmodels.stats.proportion import proportions_ztest"
   ]
  },
  {
   "cell_type": "code",
   "execution_count": 66,
   "id": "a62afa5d",
   "metadata": {},
   "outputs": [],
   "source": [
    "basari_sayisi=np.array([300,250])\n",
    "gozlem_sayiları=np.array([1000,1100])"
   ]
  },
  {
   "cell_type": "code",
   "execution_count": 67,
   "id": "8d054115",
   "metadata": {},
   "outputs": [
    {
     "data": {
      "text/plain": [
       "(3.7857863233209255, 0.0001532232957772221)"
      ]
     },
     "execution_count": 67,
     "metadata": {},
     "output_type": "execute_result"
    }
   ],
   "source": [
    "proportions_ztest(count=basari_sayisi, nobs=gozlem_sayiları)"
   ]
  },
  {
   "cell_type": "markdown",
   "id": "6aa2987f",
   "metadata": {},
   "source": [
    "Görüldüğü üzere p-value değeri, 0.05'ten küçük olduğu için Ho hipotezi reddedilir. Yani buton renginin kırmızı ya da yeşil olması ziyaret edilme oranında bir farklılık yaratır. Ve bu farklılık yeşil butonun lehinedir. "
   ]
  },
  {
   "cell_type": "markdown",
   "id": "247b5b74",
   "metadata": {},
   "source": [
    "### Varyans Analizi\n",
    "İki ya da daha fazla grup ortalaması arasında istatistiksel olarak anlamlı farklılık olup olmadığı öğrenilmek istenildiğinde kullanılır.\n",
    "\n",
    "Hipotezler:\n",
    "- Ho:mü1=mü2=mü3\n",
    "- Hı: Eşit değillerdir (en az birisi farklıdır).\n",
    "\n",
    "Test İstatistiği:\n",
    "\n",
    "F istatistiği:\n",
    "${\\displaystyle  Fs=\\dfrac{MSbetween}{MSwithin}}$\n",
    "- MSbetween: Gruplar arası ortalama hata.\n",
    "- MSwithin: Grup içi ortalama hata.\n",
    "\n",
    "Varsayımlar:\n",
    "- Gözlemlerin birbirinden bağımsız olması\n",
    "- Normal dağılım\n",
    "- Varyans homojenliği\n",
    "\n",
    "---------\n",
    "\n",
    "<b>İş Uygulaması Problemi: Anasayfa İçerik Stratejisi Belirlemek</b>\n",
    "\n",
    "Problem:\n",
    "- Bir haber sitesinde anasayfada geçirilen süre arttırılmak isteniyor.\n",
    "\n",
    "Detaylar:\n",
    "- Bir web sitesi için başarı kriterleri: ortalama ziyaret süresi, hemen çıkış oranı vb.\n",
    "- Sitede uzun zaman geçiren kullanıcıların reklamlara daha fazla tıkladığı ve markaya olan bağlılıklarının arttığı biliniyor.\n",
    "- Buna yönelik olarak benzer haberler farklı resimler ya da farklı formatlarda hazırlanarak oluşturulan test gruplarına gösteriliyor.\n",
    "- A: Doğal şekilde gösterim, B: Yönlendirici gösterim, C: İlgi çekici gösterim\n",
    "\n",
    "Hipotezler:\n",
    "- Ho:mü1=mü2=mü3 (Her bir yöntemin sonucunda anasayfada geçirilen süreler birbirine eşittir).\n",
    "- Hı: Eşit değillerdir (en az birisi farklıdır)."
   ]
  },
  {
   "cell_type": "code",
   "execution_count": 68,
   "id": "d1fa1d4d",
   "metadata": {},
   "outputs": [],
   "source": [
    "from random import randint\n",
    "from random import seed"
   ]
  },
  {
   "cell_type": "code",
   "execution_count": 69,
   "id": "932a6aa0",
   "metadata": {},
   "outputs": [],
   "source": [
    "seed(13)\n",
    "A= pd.DataFrame([randint(20,40) for i in range(30)])\n",
    "B= pd.DataFrame([randint(20,40) for i in range(30)])\n",
    "C= pd.DataFrame([randint(20,40) for i in range(30)])"
   ]
  },
  {
   "cell_type": "code",
   "execution_count": 70,
   "id": "6218bd76",
   "metadata": {},
   "outputs": [
    {
     "data": {
      "text/html": [
       "<div>\n",
       "<style scoped>\n",
       "    .dataframe tbody tr th:only-of-type {\n",
       "        vertical-align: middle;\n",
       "    }\n",
       "\n",
       "    .dataframe tbody tr th {\n",
       "        vertical-align: top;\n",
       "    }\n",
       "\n",
       "    .dataframe thead th {\n",
       "        text-align: right;\n",
       "    }\n",
       "</style>\n",
       "<table border=\"1\" class=\"dataframe\">\n",
       "  <thead>\n",
       "    <tr style=\"text-align: right;\">\n",
       "      <th></th>\n",
       "      <th>Grup A</th>\n",
       "      <th>Grup B</th>\n",
       "      <th>Grup C</th>\n",
       "    </tr>\n",
       "  </thead>\n",
       "  <tbody>\n",
       "    <tr>\n",
       "      <th>0</th>\n",
       "      <td>28</td>\n",
       "      <td>37</td>\n",
       "      <td>39</td>\n",
       "    </tr>\n",
       "    <tr>\n",
       "      <th>1</th>\n",
       "      <td>29</td>\n",
       "      <td>38</td>\n",
       "      <td>28</td>\n",
       "    </tr>\n",
       "    <tr>\n",
       "      <th>2</th>\n",
       "      <td>25</td>\n",
       "      <td>33</td>\n",
       "      <td>32</td>\n",
       "    </tr>\n",
       "    <tr>\n",
       "      <th>3</th>\n",
       "      <td>40</td>\n",
       "      <td>31</td>\n",
       "      <td>24</td>\n",
       "    </tr>\n",
       "    <tr>\n",
       "      <th>4</th>\n",
       "      <td>27</td>\n",
       "      <td>33</td>\n",
       "      <td>38</td>\n",
       "    </tr>\n",
       "  </tbody>\n",
       "</table>\n",
       "</div>"
      ],
      "text/plain": [
       "   Grup A  Grup B  Grup C\n",
       "0      28      37      39\n",
       "1      29      38      28\n",
       "2      25      33      32\n",
       "3      40      31      24\n",
       "4      27      33      38"
      ]
     },
     "execution_count": 70,
     "metadata": {},
     "output_type": "execute_result"
    }
   ],
   "source": [
    "dfs=[A,B,C]\n",
    "ABC=pd.concat(dfs,axis=1)\n",
    "ABC.columns=['Grup A','Grup B','Grup C']\n",
    "ABC.head()"
   ]
  },
  {
   "cell_type": "markdown",
   "id": "c2ac6846",
   "metadata": {},
   "source": [
    "#### Varsayım kontrolü\n",
    "- Gözlemlerin birbirinden bağımsız olması\n",
    "- Normal dağılım\n",
    "- Varyans homojenliği"
   ]
  },
  {
   "cell_type": "code",
   "execution_count": 71,
   "id": "cac86392",
   "metadata": {},
   "outputs": [],
   "source": [
    "# ilk maddenin sağlandığını düşünerek hareket ediyoruz."
   ]
  },
  {
   "cell_type": "markdown",
   "id": "d9389b46",
   "metadata": {},
   "source": [
    "Normal dağılım için hipotezler:\n",
    "\n",
    "Ho: Örnek dağılımı ile teorik dağılım arasında istatistiksel olarak anlamlı bir farklılık yoktur.\n",
    "\n",
    "Hı: Örnek dağılımı ile teorik dağılım arasında istatistiksel olarak anlamlı bir farklılık vardır."
   ]
  },
  {
   "cell_type": "code",
   "execution_count": 72,
   "id": "9fc91832",
   "metadata": {},
   "outputs": [
    {
     "data": {
      "text/plain": [
       "(ShapiroResult(statistic=0.9300902485847473, pvalue=0.04937480017542839),\n",
       " ShapiroResult(statistic=0.9506078958511353, pvalue=0.17551490664482117),\n",
       " ShapiroResult(statistic=0.9478623270988464, pvalue=0.14813847839832306))"
      ]
     },
     "execution_count": 72,
     "metadata": {},
     "output_type": "execute_result"
    }
   ],
   "source": [
    "# Normal dağılım\n",
    "shapiro(ABC['Grup A']),shapiro(ABC['Grup B']),shapiro(ABC['Grup C'])\n",
    "# hepsinin ('Grup A' nında 0.05 olduğunu varsayalım) p-value değerleri 0.05'ten büyük olduğundan Ho hipotezi reddedilemez."
   ]
  },
  {
   "cell_type": "markdown",
   "id": "1b682862",
   "metadata": {},
   "source": [
    "Varyans homojenliği için hipotezler:\n",
    "    \n",
    "Ho: Varyanslar homojendir.\n",
    "\n",
    "Hı: Varyanslar homojen değildir."
   ]
  },
  {
   "cell_type": "code",
   "execution_count": 73,
   "id": "e84d227d",
   "metadata": {},
   "outputs": [
    {
     "data": {
      "text/plain": [
       "LeveneResult(statistic=0.6528066528066537, pvalue=0.5231135302531487)"
      ]
     },
     "execution_count": 73,
     "metadata": {},
     "output_type": "execute_result"
    }
   ],
   "source": [
    "# Varyans homojenliği\n",
    "stats.levene(ABC['Grup A'],ABC['Grup B'],ABC['Grup C'])\n",
    "# hepsinin p-value değerleri 0.05'ten büyük olduğundan Ho hipotezi reddedilemez. "
   ]
  },
  {
   "cell_type": "markdown",
   "id": "924e97c0",
   "metadata": {},
   "source": [
    "#### Hipotez Testinin Uygulanması"
   ]
  },
  {
   "cell_type": "code",
   "execution_count": 74,
   "id": "d7ca2cd9",
   "metadata": {},
   "outputs": [],
   "source": [
    "from scipy.stats import f_oneway"
   ]
  },
  {
   "cell_type": "code",
   "execution_count": 75,
   "id": "5c541793",
   "metadata": {},
   "outputs": [
    {
     "data": {
      "text/plain": [
       "F_onewayResult(statistic=3.929687780262354, pvalue=0.02323250908245056)"
      ]
     },
     "execution_count": 75,
     "metadata": {},
     "output_type": "execute_result"
    }
   ],
   "source": [
    "f_oneway(ABC['Grup A'],ABC['Grup B'],ABC['Grup C'])"
   ]
  },
  {
   "cell_type": "markdown",
   "id": "be22b400",
   "metadata": {},
   "source": [
    "Görüldüğü üzere p-value değeri 0.05'ten küçük olduğu için, Ho: Her bir yöntemin sonucunda anasayfada geçirilen süreler birbirine eşittir hipotezi reddedilir."
   ]
  },
  {
   "cell_type": "code",
   "execution_count": 76,
   "id": "de8681df",
   "metadata": {},
   "outputs": [
    {
     "data": {
      "text/html": [
       "<div>\n",
       "<style scoped>\n",
       "    .dataframe tbody tr th:only-of-type {\n",
       "        vertical-align: middle;\n",
       "    }\n",
       "\n",
       "    .dataframe tbody tr th {\n",
       "        vertical-align: top;\n",
       "    }\n",
       "\n",
       "    .dataframe thead th {\n",
       "        text-align: right;\n",
       "    }\n",
       "</style>\n",
       "<table border=\"1\" class=\"dataframe\">\n",
       "  <thead>\n",
       "    <tr style=\"text-align: right;\">\n",
       "      <th></th>\n",
       "      <th>count</th>\n",
       "      <th>mean</th>\n",
       "      <th>std</th>\n",
       "      <th>min</th>\n",
       "      <th>25%</th>\n",
       "      <th>50%</th>\n",
       "      <th>75%</th>\n",
       "      <th>max</th>\n",
       "    </tr>\n",
       "  </thead>\n",
       "  <tbody>\n",
       "    <tr>\n",
       "      <th>Grup A</th>\n",
       "      <td>30.0</td>\n",
       "      <td>28.433333</td>\n",
       "      <td>5.679263</td>\n",
       "      <td>20.0</td>\n",
       "      <td>24.00</td>\n",
       "      <td>27.5</td>\n",
       "      <td>32.5</td>\n",
       "      <td>40.0</td>\n",
       "    </tr>\n",
       "    <tr>\n",
       "      <th>Grup B</th>\n",
       "      <td>30.0</td>\n",
       "      <td>32.500000</td>\n",
       "      <td>5.157853</td>\n",
       "      <td>23.0</td>\n",
       "      <td>28.25</td>\n",
       "      <td>33.0</td>\n",
       "      <td>37.0</td>\n",
       "      <td>40.0</td>\n",
       "    </tr>\n",
       "    <tr>\n",
       "      <th>Grup C</th>\n",
       "      <td>30.0</td>\n",
       "      <td>30.900000</td>\n",
       "      <td>6.104549</td>\n",
       "      <td>20.0</td>\n",
       "      <td>26.25</td>\n",
       "      <td>32.0</td>\n",
       "      <td>35.0</td>\n",
       "      <td>40.0</td>\n",
       "    </tr>\n",
       "  </tbody>\n",
       "</table>\n",
       "</div>"
      ],
      "text/plain": [
       "        count       mean       std   min    25%   50%   75%   max\n",
       "Grup A   30.0  28.433333  5.679263  20.0  24.00  27.5  32.5  40.0\n",
       "Grup B   30.0  32.500000  5.157853  23.0  28.25  33.0  37.0  40.0\n",
       "Grup C   30.0  30.900000  6.104549  20.0  26.25  32.0  35.0  40.0"
      ]
     },
     "execution_count": 76,
     "metadata": {},
     "output_type": "execute_result"
    }
   ],
   "source": [
    "# web sitesi için en faydalı yöntemin seçilmesi\n",
    "ABC.describe().T"
   ]
  },
  {
   "cell_type": "markdown",
   "id": "155f8054",
   "metadata": {},
   "source": [
    "Görüldüğü üzere 2. grup olan yönlendirici yöntem diğer yöntemlere göre daha başarılır olmuştur."
   ]
  },
  {
   "cell_type": "markdown",
   "id": "52774f2c",
   "metadata": {},
   "source": [
    "#### Nonparametrik Hipotez Testi"
   ]
  },
  {
   "cell_type": "code",
   "execution_count": 77,
   "id": "1c662ec7",
   "metadata": {},
   "outputs": [],
   "source": [
    "from scipy.stats import kruskal"
   ]
  },
  {
   "cell_type": "code",
   "execution_count": 78,
   "id": "cff34755",
   "metadata": {},
   "outputs": [
    {
     "data": {
      "text/plain": [
       "KruskalResult(statistic=7.351667162928174, pvalue=0.025328283532828268)"
      ]
     },
     "execution_count": 78,
     "metadata": {},
     "output_type": "execute_result"
    }
   ],
   "source": [
    "kruskal(ABC['Grup A'],ABC['Grup B'],ABC['Grup C'])\n",
    "# Nonparametrik Hipotez Testine göre yine Ho hipotezi reddedilir."
   ]
  },
  {
   "cell_type": "markdown",
   "id": "dcf1dce6",
   "metadata": {},
   "source": [
    "### Korelasyon Analizi\n",
    "Değişkenler arasındaki ilişki, bu ilişkinin yönü ve şiddeti ile ilgili bilgiler sağlayan istatiksel bir yöntemdir.\n",
    "\n",
    "Hipotezler: Korelosyon anlamlılığı testi\n",
    "\n",
    "ro: Anakitleye ilişkin gösterim için kullanılan sembol.\n",
    "\n",
    "- Ho:ro=0\n",
    "- Hı:ro!=0\n",
    "\n",
    "\n",
    "Test İstatistiği:\n",
    "\n",
    "${\\displaystyle  t=r\\sqrt{\\dfrac{n-2}{1-r^2}}}$ \n",
    "\n",
    "r: Örnek üzerinden elde edilen istatik için kullanılan sembol.\n",
    "\n",
    "Varsayımlar:\n",
    "- İki değişken içinde normallik varsayımı\n",
    "- Varsayım sağlanıyorsa Pearson Korelasyon Katsayısı\n",
    "- Varsayım sağlanmıyorsa Spearman Korelasyon Katsayısı\n",
    "\n",
    "-----\n",
    "\n",
    "<b>İş Uygulaması Problemi: Bahşiş ile Ödenen Hesap Arasındaki İlişkinin İncelenmesi</b>\n",
    "\n",
    "Problem:\n",
    "- Bir restorant bahşiş ile ödenen hesap arasındaki ilişkinin incelenmesini istiyor.\n",
    "\n",
    "Detaylar (Bahşiş(tips) veri seti):\n",
    "- total_bill: yemeğin toplam fiyatı (bahşiş ve vergi dahil)\n",
    "- tip: bahşiş\n",
    "- sex: ücreti ödeyen kişinin cinsiyeti\n",
    "- smoker: grupta sigara içen var mı?\n",
    "- day: gün\n",
    "- time: yemeğin zamanı\n",
    "- size: grup sayısı\n",
    "\n",
    "Hipotezler:\n",
    "- Ho:ro=0 (bahşiş ile ödenen hesap arasında anlamlı bir ilişki yoktur).\n",
    "- Hı: ro!=0 (bahşiş ile ödenen hesap arasında anlamlı bir ilişki vardır)."
   ]
  },
  {
   "cell_type": "code",
   "execution_count": 79,
   "id": "2696a324",
   "metadata": {},
   "outputs": [
    {
     "data": {
      "text/html": [
       "<div>\n",
       "<style scoped>\n",
       "    .dataframe tbody tr th:only-of-type {\n",
       "        vertical-align: middle;\n",
       "    }\n",
       "\n",
       "    .dataframe tbody tr th {\n",
       "        vertical-align: top;\n",
       "    }\n",
       "\n",
       "    .dataframe thead th {\n",
       "        text-align: right;\n",
       "    }\n",
       "</style>\n",
       "<table border=\"1\" class=\"dataframe\">\n",
       "  <thead>\n",
       "    <tr style=\"text-align: right;\">\n",
       "      <th></th>\n",
       "      <th>total_bill</th>\n",
       "      <th>tip</th>\n",
       "      <th>sex</th>\n",
       "      <th>smoker</th>\n",
       "      <th>day</th>\n",
       "      <th>time</th>\n",
       "      <th>size</th>\n",
       "    </tr>\n",
       "  </thead>\n",
       "  <tbody>\n",
       "    <tr>\n",
       "      <th>0</th>\n",
       "      <td>16.99</td>\n",
       "      <td>1.01</td>\n",
       "      <td>Female</td>\n",
       "      <td>No</td>\n",
       "      <td>Sun</td>\n",
       "      <td>Dinner</td>\n",
       "      <td>2</td>\n",
       "    </tr>\n",
       "    <tr>\n",
       "      <th>1</th>\n",
       "      <td>10.34</td>\n",
       "      <td>1.66</td>\n",
       "      <td>Male</td>\n",
       "      <td>No</td>\n",
       "      <td>Sun</td>\n",
       "      <td>Dinner</td>\n",
       "      <td>3</td>\n",
       "    </tr>\n",
       "    <tr>\n",
       "      <th>2</th>\n",
       "      <td>21.01</td>\n",
       "      <td>3.50</td>\n",
       "      <td>Male</td>\n",
       "      <td>No</td>\n",
       "      <td>Sun</td>\n",
       "      <td>Dinner</td>\n",
       "      <td>3</td>\n",
       "    </tr>\n",
       "    <tr>\n",
       "      <th>3</th>\n",
       "      <td>23.68</td>\n",
       "      <td>3.31</td>\n",
       "      <td>Male</td>\n",
       "      <td>No</td>\n",
       "      <td>Sun</td>\n",
       "      <td>Dinner</td>\n",
       "      <td>2</td>\n",
       "    </tr>\n",
       "    <tr>\n",
       "      <th>4</th>\n",
       "      <td>24.59</td>\n",
       "      <td>3.61</td>\n",
       "      <td>Female</td>\n",
       "      <td>No</td>\n",
       "      <td>Sun</td>\n",
       "      <td>Dinner</td>\n",
       "      <td>4</td>\n",
       "    </tr>\n",
       "  </tbody>\n",
       "</table>\n",
       "</div>"
      ],
      "text/plain": [
       "   total_bill   tip     sex smoker  day    time  size\n",
       "0       16.99  1.01  Female     No  Sun  Dinner     2\n",
       "1       10.34  1.66    Male     No  Sun  Dinner     3\n",
       "2       21.01  3.50    Male     No  Sun  Dinner     3\n",
       "3       23.68  3.31    Male     No  Sun  Dinner     2\n",
       "4       24.59  3.61  Female     No  Sun  Dinner     4"
      ]
     },
     "execution_count": 79,
     "metadata": {},
     "output_type": "execute_result"
    }
   ],
   "source": [
    "tips=sns.load_dataset('tips')\n",
    "df=tips.copy()\n",
    "df.head()"
   ]
  },
  {
   "cell_type": "code",
   "execution_count": 80,
   "id": "9bbd039b",
   "metadata": {},
   "outputs": [],
   "source": [
    "# total_bill'in içerisinde tip de olduğu için saf total_bill değerlerini elde etmek için total_bill'den tip çıkartılmalıdır."
   ]
  },
  {
   "cell_type": "code",
   "execution_count": 81,
   "id": "b1a8ec9b",
   "metadata": {},
   "outputs": [
    {
     "data": {
      "text/html": [
       "<div>\n",
       "<style scoped>\n",
       "    .dataframe tbody tr th:only-of-type {\n",
       "        vertical-align: middle;\n",
       "    }\n",
       "\n",
       "    .dataframe tbody tr th {\n",
       "        vertical-align: top;\n",
       "    }\n",
       "\n",
       "    .dataframe thead th {\n",
       "        text-align: right;\n",
       "    }\n",
       "</style>\n",
       "<table border=\"1\" class=\"dataframe\">\n",
       "  <thead>\n",
       "    <tr style=\"text-align: right;\">\n",
       "      <th></th>\n",
       "      <th>total_bill</th>\n",
       "      <th>tip</th>\n",
       "      <th>sex</th>\n",
       "      <th>smoker</th>\n",
       "      <th>day</th>\n",
       "      <th>time</th>\n",
       "      <th>size</th>\n",
       "    </tr>\n",
       "  </thead>\n",
       "  <tbody>\n",
       "    <tr>\n",
       "      <th>0</th>\n",
       "      <td>15.98</td>\n",
       "      <td>1.01</td>\n",
       "      <td>Female</td>\n",
       "      <td>No</td>\n",
       "      <td>Sun</td>\n",
       "      <td>Dinner</td>\n",
       "      <td>2</td>\n",
       "    </tr>\n",
       "    <tr>\n",
       "      <th>1</th>\n",
       "      <td>8.68</td>\n",
       "      <td>1.66</td>\n",
       "      <td>Male</td>\n",
       "      <td>No</td>\n",
       "      <td>Sun</td>\n",
       "      <td>Dinner</td>\n",
       "      <td>3</td>\n",
       "    </tr>\n",
       "    <tr>\n",
       "      <th>2</th>\n",
       "      <td>17.51</td>\n",
       "      <td>3.50</td>\n",
       "      <td>Male</td>\n",
       "      <td>No</td>\n",
       "      <td>Sun</td>\n",
       "      <td>Dinner</td>\n",
       "      <td>3</td>\n",
       "    </tr>\n",
       "    <tr>\n",
       "      <th>3</th>\n",
       "      <td>20.37</td>\n",
       "      <td>3.31</td>\n",
       "      <td>Male</td>\n",
       "      <td>No</td>\n",
       "      <td>Sun</td>\n",
       "      <td>Dinner</td>\n",
       "      <td>2</td>\n",
       "    </tr>\n",
       "    <tr>\n",
       "      <th>4</th>\n",
       "      <td>20.98</td>\n",
       "      <td>3.61</td>\n",
       "      <td>Female</td>\n",
       "      <td>No</td>\n",
       "      <td>Sun</td>\n",
       "      <td>Dinner</td>\n",
       "      <td>4</td>\n",
       "    </tr>\n",
       "  </tbody>\n",
       "</table>\n",
       "</div>"
      ],
      "text/plain": [
       "   total_bill   tip     sex smoker  day    time  size\n",
       "0       15.98  1.01  Female     No  Sun  Dinner     2\n",
       "1        8.68  1.66    Male     No  Sun  Dinner     3\n",
       "2       17.51  3.50    Male     No  Sun  Dinner     3\n",
       "3       20.37  3.31    Male     No  Sun  Dinner     2\n",
       "4       20.98  3.61  Female     No  Sun  Dinner     4"
      ]
     },
     "execution_count": 81,
     "metadata": {},
     "output_type": "execute_result"
    }
   ],
   "source": [
    "df['total_bill']=df['total_bill']-df['tip']\n",
    "df.head()"
   ]
  },
  {
   "cell_type": "code",
   "execution_count": 82,
   "id": "45e278d7",
   "metadata": {},
   "outputs": [
    {
     "data": {
      "image/png": "[encoded data removed]",
      "text/plain": [
       "<Figure size 640x480 with 1 Axes>"
      ]
     },
     "metadata": {},
     "output_type": "display_data"
    }
   ],
   "source": [
    "df.plot.scatter(\"tip\",\"total_bill\")\n",
    "plt.show()\n",
    "# görüldüğü üzere hesap ile bahşiş arasında pozitif yönlü bir korelasyon bulunmaktadır."
   ]
  },
  {
   "cell_type": "markdown",
   "id": "73c9046b",
   "metadata": {},
   "source": [
    "#### Varsayım Kontrolü\n",
    "- İki değişken içinde normallik varsayımı\n",
    "- Varsayım sağlanıyorsa Pearson Korelasyon Katsayısı\n",
    "- Varsayım sağlanmıyorsa Spearman Korelasyon Katsayısı\n"
   ]
  },
  {
   "cell_type": "code",
   "execution_count": 83,
   "id": "3ea8c00a",
   "metadata": {},
   "outputs": [
    {
     "data": {
      "text/plain": [
       "(ShapiroResult(statistic=0.9135652184486389, pvalue=1.1060377613780759e-10),\n",
       " ShapiroResult(statistic=0.897811233997345, pvalue=8.20057563521992e-12))"
      ]
     },
     "execution_count": 83,
     "metadata": {},
     "output_type": "execute_result"
    }
   ],
   "source": [
    "# normallik varsayımı\n",
    "# Normal dağılım için hipotezler:\n",
    "# Ho: Örnek dağılımı ile teorik dağılım arasında istatistiksel olarak anlamlı bir farklılık yoktur.\n",
    "# Hı: Örnek dağılımı ile teorik dağılım arasında istatistiksel olarak anlamlı bir farklılık vardır.\n",
    "shapiro(df['total_bill']),shapiro(df['tip'])"
   ]
  },
  {
   "cell_type": "markdown",
   "id": "27f91f9e",
   "metadata": {},
   "source": [
    "p-value değerleri 0.05'ten küçük olduğu için Ho hipotezi reddedilir."
   ]
  },
  {
   "cell_type": "code",
   "execution_count": 84,
   "id": "97d699a7",
   "metadata": {},
   "outputs": [],
   "source": [
    "# normallik varsyımı sağlanmadı fakat biz sağlanıyormuşçasına diğer testlerimizi de gerçekleştirelim.\n",
    "# son olarak nonparametrik test ile 2 durumu karşılaştıralım"
   ]
  },
  {
   "cell_type": "markdown",
   "id": "a33286d8",
   "metadata": {},
   "source": [
    "#### Hipotez Testi Uygulanması"
   ]
  },
  {
   "cell_type": "code",
   "execution_count": 87,
   "id": "654185a8",
   "metadata": {},
   "outputs": [
    {
     "data": {
      "text/plain": [
       "0.5766634471096374"
      ]
     },
     "execution_count": 87,
     "metadata": {},
     "output_type": "execute_result"
    }
   ],
   "source": [
    "# Korelasyon Katsayısı\n",
    "\n",
    "# Pearson (Normallik sağlanırsa)\n",
    "df[\"tip\"].corr(df[\"total_bill\"])"
   ]
  },
  {
   "cell_type": "code",
   "execution_count": 88,
   "id": "6bfcb24e",
   "metadata": {},
   "outputs": [
    {
     "data": {
      "text/plain": [
       "0.593691939408997"
      ]
     },
     "execution_count": 88,
     "metadata": {},
     "output_type": "execute_result"
    }
   ],
   "source": [
    "#Spearman (Normallik sağlanmazsa)\n",
    "df[\"tip\"].corr(df[\"total_bill\"],method=\"spearman\")"
   ]
  },
  {
   "cell_type": "markdown",
   "id": "dc334bea",
   "metadata": {},
   "source": [
    "Her iki korelasyon katsayısı sonuçlarında da ilişkinin yönü pozitif ve şiddeti orta olarak belirlenmiştir."
   ]
  },
  {
   "cell_type": "code",
   "execution_count": 89,
   "id": "5f61f02a",
   "metadata": {},
   "outputs": [],
   "source": [
    "# Korelasyon Anlamlılığının Testi\n",
    "\n",
    "# pearson için\n",
    "from scipy.stats.stats import pearsonr"
   ]
  },
  {
   "cell_type": "code",
   "execution_count": 90,
   "id": "a6a0f525",
   "metadata": {},
   "outputs": [
    {
     "data": {
      "text/plain": [
       "(0.5766634471096381, 5.018290084948419e-23)"
      ]
     },
     "execution_count": 90,
     "metadata": {},
     "output_type": "execute_result"
    }
   ],
   "source": [
    "pearsonr(df[\"tip\"],df[\"total_bill\"])"
   ]
  },
  {
   "cell_type": "markdown",
   "id": "cd7c6ac2",
   "metadata": {},
   "source": [
    "p-value değeri 0.05'ten küçük olduğu için, Ho: bahşiş ile ödenen hesap arasında anlamlı bir ilişki yoktur hipotezi reddedilir."
   ]
  },
  {
   "cell_type": "markdown",
   "id": "8cc76d5d",
   "metadata": {},
   "source": [
    "#### Nonparametrik Hipotez Testi Uygulanması"
   ]
  },
  {
   "cell_type": "code",
   "execution_count": 91,
   "id": "b365b163",
   "metadata": {},
   "outputs": [],
   "source": [
    "# spearman için\n",
    "from scipy.stats.stats import spearmanr"
   ]
  },
  {
   "cell_type": "code",
   "execution_count": 92,
   "id": "f81edd4c",
   "metadata": {},
   "outputs": [
    {
     "data": {
      "text/plain": [
       "SpearmanrResult(correlation=0.593691939408997, pvalue=1.2452285137560276e-24)"
      ]
     },
     "execution_count": 92,
     "metadata": {},
     "output_type": "execute_result"
    }
   ],
   "source": [
    "spearmanr(df[\"tip\"],df[\"total_bill\"])"
   ]
  },
  {
   "cell_type": "markdown",
   "id": "6e96921b",
   "metadata": {},
   "source": [
    "Nonparametrik Hipotez Testinde kullanılan spearman yöntemine göre yine p-value değeri 0.05'ten küçük olduğu için, Ho: bahşiş ile ödenen hesap arasında anlamlı bir ilişki yoktur hipotezi reddedilir."
   ]
  },
  {
   "cell_type": "code",
   "execution_count": 93,
   "id": "d66c13b6",
   "metadata": {},
   "outputs": [],
   "source": [
    "# kendalltau için\n",
    "from scipy.stats.stats import kendalltau"
   ]
  },
  {
   "cell_type": "code",
   "execution_count": 94,
   "id": "0b872607",
   "metadata": {},
   "outputs": [
    {
     "data": {
      "text/plain": [
       "KendalltauResult(correlation=0.4400790074919885, pvalue=7.131027725873721e-24)"
      ]
     },
     "execution_count": 94,
     "metadata": {},
     "output_type": "execute_result"
    }
   ],
   "source": [
    "kendalltau(df[\"tip\"],df[\"total_bill\"])"
   ]
  },
  {
   "cell_type": "markdown",
   "id": "239427ae",
   "metadata": {},
   "source": [
    "Nonparametrik Hipotez Testinde kullanılan kendalltau yöntemine göre yine p-value değeri 0.05'ten küçük olduğu için, Ho: bahşiş ile ödenen hesap arasında anlamlı bir ilişki yoktur hipotezi reddedilir.\n",
    "\n",
    "Spearman'dan farkı korelasyon şiddeti biraz daha küçüktür."
   ]
  },
  {
   "cell_type": "markdown",
   "id": "6cbca87b",
   "metadata": {},
   "source": [
    "<b> Sonuç: </b> Gerekli varsayımlar sağlanmadığı için yapılan korelasyon testlerinden en güveniliri Spearman Korelasyon Katsayısı Testidir. Buna göre iki değişken arasında anlamlı bir ilişki olup, ilişkinin yönü pozitif ve orta (0.59) şiddetlidir."
   ]
  }
 ],
 "metadata": {
  "kernelspec": {
   "display_name": "Python 3",
   "language": "python",
   "name": "python3"
  },
  "language_info": {
   "codemirror_mode": {
    "name": "ipython",
    "version": 3
   },
   "file_extension": ".py",
   "mimetype": "text/x-python",
   "name": "python",
   "nbconvert_exporter": "python",
   "pygments_lexer": "ipython3",
   "version": "3.8.8"
  }
 },
 "nbformat": 4,
 "nbformat_minor": 5
}
